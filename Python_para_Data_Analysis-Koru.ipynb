{
 "cells": [
  {
   "cell_type": "code",
   "execution_count": null,
   "metadata": {
    "colab": {
     "base_uri": "https://localhost:8080/"
    },
    "id": "spytaA21D-zd",
    "outputId": "b4f37848-815f-499b-d057-2d71d12ea7ee"
   },
   "outputs": [],
   "source": [
    "print('Hello World!')\n",
    "\n",
    "# pode digitar o comentário aqui\n",
    "# linha\n",
    "# linha"
   ]
  },
  {
   "attachments": {},
   "cell_type": "markdown",
   "metadata": {},
   "source": [
    "## Bem vindos ao nosso curso\n",
    "\n",
    "Importando bibliotecas maravilhosas:\n",
    "\n",
    "*   Pandas - Biblioteca INCRÍVEL que irá facilitar sua manipulação de dados.\n",
    "\n",
    "*   Numpy - Biblioteca para operações matemáticas"
   ]
  },
  {
   "cell_type": "code",
   "execution_count": null,
   "metadata": {},
   "outputs": [],
   "source": [
    "import pandas as pd\n",
    "import numpy as np"
   ]
  },
  {
   "attachments": {},
   "cell_type": "markdown",
   "metadata": {
    "id": "XvMLgNzrLVri"
   },
   "source": [
    "Lendo o nosso arquivo"
   ]
  },
  {
   "cell_type": "code",
   "execution_count": null,
   "metadata": {},
   "outputs": [],
   "source": [
    "df = pd.read_excel('../data/dataset-vendas.xlsx')"
   ]
  },
  {
   "cell_type": "code",
   "execution_count": null,
   "metadata": {},
   "outputs": [],
   "source": [
    "df"
   ]
  },
  {
   "attachments": {},
   "cell_type": "markdown",
   "metadata": {
    "id": "n0TTzuG_LYKj"
   },
   "source": [
    "**Como ele é?**\n",
    "\n",
    "Aqui é super importante inspecionarmos o nosso dataframe (ou tabela), com informações relevantes relacionadas ao seu formato e também a composição de dados que temos dele.\n"
   ]
  },
  {
   "attachments": {},
   "cell_type": "markdown",
   "metadata": {
    "id": "6LzP6kj_Lwf7"
   },
   "source": [
    "Vamos olhar as primeiras 5 linhas do nosso dataframe"
   ]
  },
  {
   "cell_type": "code",
   "execution_count": null,
   "metadata": {},
   "outputs": [],
   "source": [
    "df.head()"
   ]
  },
  {
   "attachments": {},
   "cell_type": "markdown",
   "metadata": {
    "id": "tYyXYWUZL1mP"
   },
   "source": [
    "Vamos olhar as últimas 5 linhas do nosso dataframe"
   ]
  },
  {
   "cell_type": "code",
   "execution_count": null,
   "metadata": {
    "colab": {
     "base_uri": "https://localhost:8080/",
     "height": 530
    },
    "id": "832VraaZL4ya",
    "outputId": "0f4f1edd-b4f9-4123-c6b6-86006a873bc9"
   },
   "outputs": [],
   "source": [
    "df.tail()"
   ]
  },
  {
   "attachments": {},
   "cell_type": "markdown",
   "metadata": {
    "id": "Fkaz49ECL9Ul"
   },
   "source": [
    "E se eu quiser olhar as primeiras (ou últimas) 20 linhas?"
   ]
  },
  {
   "cell_type": "code",
   "execution_count": null,
   "metadata": {},
   "outputs": [],
   "source": [
    "df.head(20)"
   ]
  },
  {
   "attachments": {},
   "cell_type": "markdown",
   "metadata": {
    "id": "eHqT2KQPM1vp"
   },
   "source": [
    "Vamos olhar como o nosso dataframe está em relação aos seus tipos de variáveis"
   ]
  },
  {
   "cell_type": "code",
   "execution_count": null,
   "metadata": {},
   "outputs": [],
   "source": [
    "df.info()"
   ]
  },
  {
   "attachments": {},
   "cell_type": "markdown",
   "metadata": {
    "id": "q1Ahp_2vgeZ9"
   },
   "source": [
    "Também temos como saber se há valores faltantes em nosso dataframe"
   ]
  },
  {
   "cell_type": "code",
   "execution_count": null,
   "metadata": {},
   "outputs": [],
   "source": [
    "df.isna().any()"
   ]
  },
  {
   "attachments": {},
   "cell_type": "markdown",
   "metadata": {
    "id": "70NOez0Th5zb"
   },
   "source": [
    "Uma forma interessante de olhar o nosso dataframe é sempre saber qual o seu formato, quantas linhas e colunas essa \"tabela\" possui"
   ]
  },
  {
   "cell_type": "code",
   "execution_count": null,
   "metadata": {},
   "outputs": [],
   "source": [
    "df.shape"
   ]
  },
  {
   "attachments": {},
   "cell_type": "markdown",
   "metadata": {
    "id": "gGWfPEwFiEim"
   },
   "source": [
    "### Ponto de Parada - Tuplas\n",
    "\n",
    "Você notou que ao chamar esse atributo - .shape, o código retornou um valor dentro de dois parênteses?\n",
    "\n",
    "Essa estrutura, dentro de parênteses, é chamada de Tupla!"
   ]
  },
  {
   "attachments": {},
   "cell_type": "markdown",
   "metadata": {
    "id": "ia8ECgDBr4Zy"
   },
   "source": [
    "***Tuplas em Python***\n",
    "\n",
    "Em Python, uma tupla é um tipo de dados que é semelhante a uma lista. No entanto, ao contrário das listas, as tuplas são imutáveis, o que significa que, uma vez definidas, não podem ser modificadas ou alteradas. Você pode pensar nas tuplas como sendo \"listas de leitura apenas\".\n",
    "\n",
    "As tuplas são frequentemente usadas para armazenar grupos de dados relacionados. Por exemplo, uma tupla pode armazenar informações sobre uma pessoa, como nome, idade e profissão.\n",
    "\n",
    "Criar uma tupla é tão simples quanto colocar diferentes valores separados por vírgulas. Em Python, as tuplas são definidas colocando os elementos entre parênteses ()."
   ]
  },
  {
   "cell_type": "code",
   "execution_count": null,
   "metadata": {},
   "outputs": [],
   "source": [
    "informacoes_pessoas = (\"Joao\", 30, \"Engenheiro\")"
   ]
  },
  {
   "cell_type": "code",
   "execution_count": null,
   "metadata": {},
   "outputs": [],
   "source": [
    "# Criando uma tupla\n",
    "informacoes_pessoa = (\"João\", 30, \"Engenheiro\")\n",
    "print(informacoes_pessoa)\n"
   ]
  },
  {
   "attachments": {},
   "cell_type": "markdown",
   "metadata": {},
   "source": [
    "Quando executado, o código acima exibirá a seguinte saída: (\"João\", 30, \"Engenheiro\")"
   ]
  },
  {
   "attachments": {},
   "cell_type": "markdown",
   "metadata": {},
   "source": [
    "***Acessando elementos de uma tupla***\n",
    "\n",
    "Assim como as listas, você pode acessar os elementos de uma tupla referenciando o índice dos elementos. Os índices em Python começam em 0 para o primeiro elemento."
   ]
  },
  {
   "cell_type": "code",
   "execution_count": null,
   "metadata": {
    "id": "nWdy6H-T93f8"
   },
   "outputs": [],
   "source": [
    "# Acessando elementos de uma tupla\n",
    "nome = informacoes_pessoa[0]\n",
    "idade = informacoes_pessoa[1]\n",
    "profissao = informacoes_pessoa[2]\n",
    "\n",
    "print(\"Nome: \", nome)\n",
    "print(\"Idade: \", idade)\n",
    "print(\"Profissão: \", profissao)\n",
    "\n"
   ]
  },
  {
   "attachments": {},
   "cell_type": "markdown",
   "metadata": {},
   "source": [
    "Note que, se tentarmos modificar um valor em uma tupla, obteremos um erro, pois as tuplas são imutáveis:"
   ]
  },
  {
   "cell_type": "code",
   "execution_count": null,
   "metadata": {},
   "outputs": [],
   "source": [
    "# Tentando modificar um valor de uma tupla\n",
    "#informacoes_pessoa[1] = 31\n"
   ]
  },
  {
   "attachments": {},
   "cell_type": "markdown",
   "metadata": {},
   "source": [
    "Essa é uma característica essencial das tuplas - elas são projetadas para armazenar dados que não devem ser modificados."
   ]
  },
  {
   "attachments": {},
   "cell_type": "markdown",
   "metadata": {},
   "source": [
    "***Por que usar tuplas?***\n",
    "\n",
    "Você pode estar se perguntando: por que usaríamos tuplas se elas são semelhantes às listas, mas não podem ser modificadas? Uma das principais razões é a eficiência: como as tuplas são imutáveis, elas podem ser mais eficientes em termos de memória e desempenho do que as listas quando usadas para dados que não precisam ser alterados. Além disso, o fato de serem imutáveis as torna adequadas para garantir que certos dados permaneçam constantes ao longo da execução de um programa."
   ]
  },
  {
   "cell_type": "code",
   "execution_count": null,
   "metadata": {
    "colab": {
     "base_uri": "https://localhost:8080/"
    },
    "id": "4u2aqTdJqHYK",
    "outputId": "e54db9b0-178b-4a95-be71-2114962f9c26"
   },
   "outputs": [],
   "source": [
    "df.shape[0]"
   ]
  },
  {
   "cell_type": "code",
   "execution_count": null,
   "metadata": {
    "colab": {
     "base_uri": "https://localhost:8080/"
    },
    "id": "Lt-mgQvWqIjp",
    "outputId": "e258a56e-33b0-4a63-83a1-739c56610c04"
   },
   "outputs": [],
   "source": [
    "df.shape[1]"
   ]
  },
  {
   "attachments": {},
   "cell_type": "markdown",
   "metadata": {},
   "source": [
    "### Continuando com nossa Exploração"
   ]
  },
  {
   "attachments": {},
   "cell_type": "markdown",
   "metadata": {
    "id": "Z-htVRLGdoVZ"
   },
   "source": [
    "Podemos também acessar de forma rápida, quais são todas as colunas que o nosso dataframe possui"
   ]
  },
  {
   "cell_type": "code",
   "execution_count": null,
   "metadata": {
    "colab": {
     "base_uri": "https://localhost:8080/"
    },
    "id": "TMMGl0PVqJ5m",
    "outputId": "0f26115c-c466-4429-ee6a-f6b1a0163b15"
   },
   "outputs": [],
   "source": [
    "df.columns"
   ]
  },
  {
   "attachments": {},
   "cell_type": "markdown",
   "metadata": {
    "id": "6iKYM3Ckdvuu"
   },
   "source": [
    "Podemos acessar uma coluna individualmente do nosso dataframe, para isso, usamos a seguinte forma:\n",
    "\n",
    "dataframe['nome_da_coluna']\n",
    "\n",
    "Atente para que o nome da coluna esteja entre aspas simples ou aspas duplas"
   ]
  },
  {
   "cell_type": "code",
   "execution_count": null,
   "metadata": {},
   "outputs": [],
   "source": [
    "df['order_id']"
   ]
  },
  {
   "cell_type": "code",
   "execution_count": null,
   "metadata": {},
   "outputs": [],
   "source": [
    "df['review_comment_message', 'order_id']"
   ]
  },
  {
   "attachments": {},
   "cell_type": "markdown",
   "metadata": {
    "id": "iLE_AfRqd8VH"
   },
   "source": [
    "Podemos acessar mais de uma coluna também. Seguimos a mesma forma, exceto que colocamos dois colchetes:\n",
    "\n",
    "dataframe[['coluna_1', 'coluna_2']]"
   ]
  },
  {
   "cell_type": "code",
   "execution_count": null,
   "metadata": {},
   "outputs": [],
   "source": [
    "df[['review_comment_message', 'order_id']]"
   ]
  },
  {
   "cell_type": "code",
   "execution_count": null,
   "metadata": {},
   "outputs": [],
   "source": [
    "df[['customer_unique_id','customer_zip_code_prefix', 'customer_city']]"
   ]
  },
  {
   "cell_type": "code",
   "execution_count": null,
   "metadata": {},
   "outputs": [],
   "source": [
    "dados_clientes = df[['customer_unique_id','customer_zip_code_prefix', 'customer_city']]"
   ]
  },
  {
   "cell_type": "code",
   "execution_count": null,
   "metadata": {},
   "outputs": [],
   "source": [
    "dados_clientes"
   ]
  },
  {
   "cell_type": "code",
   "execution_count": null,
   "metadata": {},
   "outputs": [],
   "source": [
    "dados_clientes.to_excel('../data/tratado/dados_clientes.xlsx')"
   ]
  },
  {
   "attachments": {},
   "cell_type": "markdown",
   "metadata": {},
   "source": [
    "#### Dica Master Blaster Top de Todas\n",
    "\n",
    "Você sabia que pode criar diretamente uma pasta em qualquer lugar do seu computador, usando código?\n",
    "\n",
    "Se liga na dica ;)"
   ]
  },
  {
   "attachments": {},
   "cell_type": "markdown",
   "metadata": {},
   "source": [
    "Para criar uma pasta diretamente no Jupyter Notebook, você pode utilizar a biblioteca os do Python.\n",
    "\n",
    "Aqui está um exemplo de como criar uma pasta usando o Jupyter Notebook:"
   ]
  },
  {
   "cell_type": "code",
   "execution_count": null,
   "metadata": {},
   "outputs": [],
   "source": [
    "import os\n",
    "\n",
    "nome_pasta = \"../data/arquivos\"\n",
    "\n",
    "if not os.path.exists(nome_pasta):\n",
    "    os.makedirs(nome_pasta)\n",
    "    print(\"Pasta criada com sucesso!\")\n",
    "else:\n",
    "    print(\"A pasta já existe!\")"
   ]
  },
  {
   "attachments": {},
   "cell_type": "markdown",
   "metadata": {},
   "source": [
    "Ao executar esse código, uma nova pasta chamada \"nova_pasta\" será criada no mesmo diretório em que o notebook está localizado. Se a pasta já existir, uma mensagem será exibida informando que a pasta já existe.\n",
    "\n",
    "E para criar em outro diretório?\n",
    "\n",
    "É simples, adicine o caminho diretamente na variável 'nova_pasta'"
   ]
  },
  {
   "attachments": {},
   "cell_type": "markdown",
   "metadata": {},
   "source": [
    "Vimos usando a função info() que temos alguns dados que estão em um formato diferente do que deveriam"
   ]
  },
  {
   "cell_type": "code",
   "execution_count": null,
   "metadata": {},
   "outputs": [],
   "source": [
    "df.info()"
   ]
  },
  {
   "attachments": {},
   "cell_type": "markdown",
   "metadata": {},
   "source": [
    "Vemos aqui que a coluna ***order_purchase_timestamp*** está com o tipo Object - ou seja, ela é um tipo de texto, quando deveria ser do tipo datetime, ou seja, uma variável que indica uma data.\n",
    "\n",
    "Como podemos alterar isso?"
   ]
  },
  {
   "cell_type": "code",
   "execution_count": null,
   "metadata": {},
   "outputs": [],
   "source": [
    "df_aula = df.copy() #Estou criando uma cópia do dataframe apenas para fins acadêmicos tá "
   ]
  },
  {
   "cell_type": "code",
   "execution_count": null,
   "metadata": {},
   "outputs": [],
   "source": [
    "df['order_purchase_timestamp']"
   ]
  },
  {
   "cell_type": "code",
   "execution_count": null,
   "metadata": {},
   "outputs": [],
   "source": [
    "#Precisamos mudar essa coluna para timestamp - um tipo de formato de datas que nos dará mais flexibilidade para nossas análises\n",
    "\n",
    "df['order_purchase_timestamp'] = pd.to_datetime(df['order_purchase_timestamp'])"
   ]
  },
  {
   "cell_type": "code",
   "execution_count": null,
   "metadata": {},
   "outputs": [],
   "source": [
    "# Reconferindo\n",
    "\n",
    "df.info()"
   ]
  },
  {
   "attachments": {},
   "cell_type": "markdown",
   "metadata": {},
   "source": [
    "Mas são várias colunas não é? Como podemos fazer?\n",
    "\n",
    "Precisamos alterar os tipos dessas colunas: \n",
    "\n",
    "* 'order_approved_at', \n",
    "* 'order_delivered_carrier_date',\n",
    "* 'order_delivered_customer_date',\n",
    "* 'order_estimated_delivery_date', \n",
    "* 'shipping_limit_date', \n",
    "* 'review_creation_date', \n",
    "* 'review_answer_timestamp'"
   ]
  },
  {
   "cell_type": "code",
   "execution_count": null,
   "metadata": {},
   "outputs": [],
   "source": [
    "#Maneira 1: Copiando e colando!\n",
    "\n",
    "df['order_approved_at'] = pd.to_datetime(df['order_approved_at'])\n",
    "df['order_delivered_carrier_date'] = pd.to_datetime(df['order_delivered_carrier_date'])\n",
    "df['order_delivered_customer_date'] = pd.to_datetime(df['order_delivered_customer_date'])\n",
    "df['order_estimated_delivery_date'] = pd.to_datetime(df['order_estimated_delivery_date'])\n",
    "df['shipping_limit_date'] = pd.to_datetime(df['shipping_limit_date'])\n",
    "df['review_creation_date'] = pd.to_datetime(df['review_creation_date'])\n",
    "df['review_answer_timestamp'] = pd.to_datetime(df['review_answer_timestamp'])"
   ]
  },
  {
   "cell_type": "code",
   "execution_count": null,
   "metadata": {},
   "outputs": [],
   "source": [
    "df.info()"
   ]
  },
  {
   "cell_type": "code",
   "execution_count": null,
   "metadata": {},
   "outputs": [],
   "source": [
    "df.columns"
   ]
  },
  {
   "cell_type": "code",
   "execution_count": null,
   "metadata": {},
   "outputs": [],
   "source": [
    "cols_to_datetime = ['order_purchase_timestamp',\n",
    "       'order_approved_at', 'order_delivered_carrier_date',\n",
    "       'order_delivered_customer_date', 'order_estimated_delivery_date', 'shipping_limit_date', 'review_creation_date', 'review_answer_timestamp']"
   ]
  },
  {
   "cell_type": "code",
   "execution_count": null,
   "metadata": {},
   "outputs": [],
   "source": [
    "cols_to_datetime"
   ]
  },
  {
   "cell_type": "code",
   "execution_count": null,
   "metadata": {},
   "outputs": [],
   "source": [
    "for col in cols_to_datetime:\n",
    "    df[col] = pd.to_datetime(df[col])"
   ]
  },
  {
   "cell_type": "code",
   "execution_count": null,
   "metadata": {},
   "outputs": [],
   "source": [
    "#Maneira 2: Usando o for para criar loops\n",
    "\n",
    "cols_to_datetime = ['order_purchase_timestamp','order_approved_at', 'order_delivered_carrier_date','order_delivered_customer_date',\n",
    "                    'order_estimated_delivery_date', 'shipping_limit_date', 'review_creation_date', 'review_answer_timestamp']\n",
    "\n",
    "for col in cols_to_datetime:\n",
    "    df_aula[col] = pd.to_datetime(df_aula[col])"
   ]
  },
  {
   "cell_type": "code",
   "execution_count": null,
   "metadata": {},
   "outputs": [],
   "source": [
    "df_aula.info()"
   ]
  },
  {
   "attachments": {},
   "cell_type": "markdown",
   "metadata": {},
   "source": [
    "Outras funções para você conhecer:\n",
    "\n",
    "* Converter para número: https://pandas.pydata.org/docs/reference/api/pandas.to_numeric.html"
   ]
  },
  {
   "attachments": {},
   "cell_type": "markdown",
   "metadata": {},
   "source": [
    "### E os dados ausentes?"
   ]
  },
  {
   "cell_type": "code",
   "execution_count": null,
   "metadata": {},
   "outputs": [],
   "source": [
    "df.isna().any()"
   ]
  },
  {
   "attachments": {},
   "cell_type": "markdown",
   "metadata": {},
   "source": [
    "Mas quantos eles são?"
   ]
  },
  {
   "cell_type": "code",
   "execution_count": null,
   "metadata": {},
   "outputs": [],
   "source": [
    "df.isna().sum()"
   ]
  },
  {
   "attachments": {},
   "cell_type": "markdown",
   "metadata": {},
   "source": [
    "Mas muito mais importante do que saber quantos são, é também entendermos o quanto que esses dados faltantes representam no total da nossa base de dados:"
   ]
  },
  {
   "cell_type": "code",
   "execution_count": null,
   "metadata": {},
   "outputs": [],
   "source": [
    "df.shape[0]"
   ]
  },
  {
   "cell_type": "code",
   "execution_count": null,
   "metadata": {},
   "outputs": [],
   "source": [
    "(df.isna().sum() / df.shape[0]) * 100"
   ]
  },
  {
   "cell_type": "code",
   "execution_count": null,
   "metadata": {},
   "outputs": [],
   "source": [
    "df.isna().sum()/df.shape[0] * 100"
   ]
  },
  {
   "attachments": {},
   "cell_type": "markdown",
   "metadata": {},
   "source": [
    "Quando trabalhamos com grandes conjuntos de dados, é comum encontrar valores ausentes. Esses são espaços vazios ou dados que não foram coletados durante o processo de coleta de dados.\n",
    "\n",
    "Em Python, utilizamos a biblioteca pandas para lidar com dados ausentes de maneira eficaz. O pandas representa os dados ausentes como NaN (Not a Number) e fornece funções para detectar, remover e substituir esses valores."
   ]
  },
  {
   "attachments": {},
   "cell_type": "markdown",
   "metadata": {},
   "source": [
    "***Tratando dados ausentes***\n",
    "\n",
    "Excluindo dados ausentes\n",
    "\n",
    "Um dos métodos mais simples para tratar dados ausentes é excluí-los usando o método dropna()."
   ]
  },
  {
   "cell_type": "code",
   "execution_count": null,
   "metadata": {},
   "outputs": [],
   "source": [
    "df.dropna()"
   ]
  },
  {
   "attachments": {},
   "cell_type": "markdown",
   "metadata": {},
   "source": [
    "(VALOR_ONTEM - VALOR_HOJE)/VALOR_ONTEM"
   ]
  },
  {
   "cell_type": "code",
   "execution_count": null,
   "metadata": {},
   "outputs": [],
   "source": [
    "((df.shape[0] - df.dropna().shape[0]) / df.shape[0]) *100"
   ]
  },
  {
   "cell_type": "code",
   "execution_count": null,
   "metadata": {},
   "outputs": [],
   "source": [
    "# Nesse caso, estamos retirando todos os valores vazios sem nenhum critério, quanto perderíamos da nossa base?\n",
    "\n",
    "((df.shape[0] - df.dropna().shape[0]) / df.shape[0] ) *100"
   ]
  },
  {
   "attachments": {},
   "cell_type": "markdown",
   "metadata": {},
   "source": [
    "***Preenchendo dados ausentes***\n",
    "\n",
    "Em alguns casos, em vez de excluir dados ausentes, pode ser melhor preenchê-los com algum valor. Isso pode ser feito usando o método fillna()"
   ]
  },
  {
   "cell_type": "code",
   "execution_count": null,
   "metadata": {},
   "outputs": [],
   "source": [
    "df.fillna(value='PREENCHIDO')\n"
   ]
  },
  {
   "attachments": {},
   "cell_type": "markdown",
   "metadata": {},
   "source": [
    "No exemplo acima, todos os valores ausentes são preenchidos com a string 'PREENCHIDO'."
   ]
  },
  {
   "attachments": {},
   "cell_type": "markdown",
   "metadata": {},
   "source": [
    "É também comum preencher com a média dos valores da coluna:"
   ]
  },
  {
   "cell_type": "code",
   "execution_count": null,
   "metadata": {},
   "outputs": [],
   "source": [
    "df['review_score']"
   ]
  },
  {
   "cell_type": "code",
   "execution_count": null,
   "metadata": {},
   "outputs": [],
   "source": [
    "df.fillna(value=df['review_score'].mean())"
   ]
  },
  {
   "attachments": {},
   "cell_type": "markdown",
   "metadata": {},
   "source": [
    "No exemplo acima, os valores ausentes na coluna 'A' são preenchidos com a média dos valores existentes na mesma coluna."
   ]
  },
  {
   "cell_type": "code",
   "execution_count": null,
   "metadata": {},
   "outputs": [],
   "source": [
    "# Como perderemos apenas 5% da base se removermos todos os valores vazios, é o método que vamos seguir. Mas não se apeguem a ele, cada caso é um caso ;)\n",
    "\n",
    "df_clean = df.dropna()"
   ]
  },
  {
   "cell_type": "code",
   "execution_count": null,
   "metadata": {},
   "outputs": [],
   "source": [
    "df_clean.shape"
   ]
  },
  {
   "attachments": {},
   "cell_type": "markdown",
   "metadata": {},
   "source": [
    "Acesse aqui para saber mais sobre modos de fazer a limpeza do seus dados usando Python Pandas e outros recursos:\n",
    "\n",
    "https://realpython.com/python-data-cleaning-numpy-pandas/"
   ]
  },
  {
   "attachments": {},
   "cell_type": "markdown",
   "metadata": {
    "id": "TnVJJKDQfkzT"
   },
   "source": [
    "# Análises Exploratórias Básicas do Nosso Dataframe"
   ]
  },
  {
   "attachments": {},
   "cell_type": "markdown",
   "metadata": {
    "id": "kcHmNgMqgkKR"
   },
   "source": [
    "Vamos começar agora a olhar diretamente para quais informações nosso dataframe possui.\n",
    "\n",
    "Uma função importante que podemos usar é contar quantos valores temos de cada informação em uma coluna.\n",
    "\n",
    "Para isso existe a função: value_counts() - contar valores"
   ]
  },
  {
   "cell_type": "code",
   "execution_count": null,
   "metadata": {},
   "outputs": [],
   "source": [
    "df_clean.columns"
   ]
  },
  {
   "cell_type": "code",
   "execution_count": null,
   "metadata": {},
   "outputs": [],
   "source": [
    "df_clean['product_category_name'].value_counts()"
   ]
  },
  {
   "cell_type": "code",
   "execution_count": null,
   "metadata": {},
   "outputs": [],
   "source": [
    "df_clean['product_category_name'].value_counts(normalize=True) * 100"
   ]
  },
  {
   "cell_type": "code",
   "execution_count": null,
   "metadata": {},
   "outputs": [],
   "source": [
    "df_clean['customer_id'].value_counts(normalize = True)"
   ]
  },
  {
   "attachments": {},
   "cell_type": "markdown",
   "metadata": {
    "id": "UDzNDuweF4jp"
   },
   "source": [
    "**Medidas Estatísticas Importantes**"
   ]
  },
  {
   "cell_type": "code",
   "execution_count": null,
   "metadata": {},
   "outputs": [],
   "source": [
    "df_clean['price'].describe()"
   ]
  },
  {
   "cell_type": "code",
   "execution_count": null,
   "metadata": {},
   "outputs": [],
   "source": [
    "df_clean[['price', 'freight_value']].describe()"
   ]
  },
  {
   "cell_type": "code",
   "execution_count": null,
   "metadata": {},
   "outputs": [],
   "source": [
    "df_clean['price'].sum()"
   ]
  },
  {
   "cell_type": "code",
   "execution_count": null,
   "metadata": {},
   "outputs": [],
   "source": [
    "df_clean['price'].median()"
   ]
  },
  {
   "cell_type": "code",
   "execution_count": null,
   "metadata": {},
   "outputs": [],
   "source": [
    "df_clean['price'].mode()[0]"
   ]
  },
  {
   "cell_type": "code",
   "execution_count": null,
   "metadata": {},
   "outputs": [],
   "source": [
    "df_clean['price'].std()"
   ]
  },
  {
   "cell_type": "code",
   "execution_count": null,
   "metadata": {
    "colab": {
     "base_uri": "https://localhost:8080/"
    },
    "id": "o_OTTgWkGNkz",
    "outputId": "8843c1ea-c9b9-4eb8-efe4-d4cdf76443a2"
   },
   "outputs": [],
   "source": [
    "desvio_padrao_sales = df_clean['price'].std()"
   ]
  },
  {
   "cell_type": "code",
   "execution_count": null,
   "metadata": {},
   "outputs": [],
   "source": [
    "desvio_padrao_sales"
   ]
  },
  {
   "cell_type": "code",
   "execution_count": null,
   "metadata": {},
   "outputs": [],
   "source": [
    "df_clean.apply({\n",
    "    'price': 'mean',\n",
    "    'freight_value': 'max'\n",
    "})"
   ]
  },
  {
   "cell_type": "code",
   "execution_count": null,
   "metadata": {},
   "outputs": [],
   "source": [
    "df_clean.apply({'price': 'mean', 'freight_value': 'min'})"
   ]
  },
  {
   "cell_type": "code",
   "execution_count": null,
   "metadata": {},
   "outputs": [],
   "source": [
    "df_clean.apply({\n",
    "    'price': ['mean', 'std'],\n",
    "    'freight_value': 'max'\n",
    "})"
   ]
  },
  {
   "cell_type": "code",
   "execution_count": null,
   "metadata": {},
   "outputs": [],
   "source": [
    "df_clean.apply({'price': 'mean', 'freight_value': ['min', 'max']})"
   ]
  },
  {
   "cell_type": "code",
   "execution_count": null,
   "metadata": {},
   "outputs": [],
   "source": [
    "df_clean[['price', 'freight_value']].apply(['min', 'max', 'mean', 'median', 'std']).to_excel('../data/arquivos/resumo.xlsx')"
   ]
  },
  {
   "cell_type": "code",
   "execution_count": null,
   "metadata": {},
   "outputs": [],
   "source": [
    "df_clean[['price', 'freight_value']].apply(['min', 'max', 'mean', 'median', 'std'])"
   ]
  },
  {
   "attachments": {},
   "cell_type": "markdown",
   "metadata": {
    "id": "pO4Yi5_eFv3G"
   },
   "source": [
    "### Filtrando nosso Dataframe"
   ]
  },
  {
   "attachments": {},
   "cell_type": "markdown",
   "metadata": {},
   "source": [
    "O filtro de dados é um passo crucial na análise de dados. Ele permite que você se concentre em partes específicas do seu conjunto de dados e extraia apenas as informações que sejam importantes e necessárias."
   ]
  },
  {
   "cell_type": "code",
   "execution_count": null,
   "metadata": {
    "id": "t_cHN8HFXV4f"
   },
   "outputs": [],
   "source": [
    "a = 3"
   ]
  },
  {
   "cell_type": "code",
   "execution_count": null,
   "metadata": {
    "id": "wysz3SWYdQCT"
   },
   "outputs": [],
   "source": [
    "b = 4"
   ]
  },
  {
   "cell_type": "code",
   "execution_count": null,
   "metadata": {
    "colab": {
     "base_uri": "https://localhost:8080/"
    },
    "id": "OseLUCSD_QLw",
    "outputId": "5b2eaec6-9d21-4ee0-adfb-9f477618f7bf"
   },
   "outputs": [],
   "source": [
    "a"
   ]
  },
  {
   "cell_type": "code",
   "execution_count": null,
   "metadata": {},
   "outputs": [],
   "source": [
    "b >= a"
   ]
  },
  {
   "cell_type": "code",
   "execution_count": null,
   "metadata": {
    "id": "aW2CdmIXdSG1"
   },
   "outputs": [],
   "source": [
    "c = 3"
   ]
  },
  {
   "cell_type": "code",
   "execution_count": null,
   "metadata": {
    "colab": {
     "base_uri": "https://localhost:8080/"
    },
    "id": "LDUnpD85dTet",
    "outputId": "55f402cb-4493-402c-ed90-fbf616414ac3"
   },
   "outputs": [],
   "source": [
    "a != c"
   ]
  },
  {
   "cell_type": "code",
   "execution_count": null,
   "metadata": {},
   "outputs": [],
   "source": [
    "a = not True"
   ]
  },
  {
   "cell_type": "code",
   "execution_count": null,
   "metadata": {},
   "outputs": [],
   "source": [
    "a"
   ]
  },
  {
   "attachments": {},
   "cell_type": "markdown",
   "metadata": {},
   "source": [
    "Vamos começar a aplicar no nosso dataframe"
   ]
  },
  {
   "cell_type": "code",
   "execution_count": null,
   "metadata": {},
   "outputs": [],
   "source": [
    "df_clean.columns"
   ]
  },
  {
   "cell_type": "code",
   "execution_count": null,
   "metadata": {},
   "outputs": [],
   "source": [
    "df_clean['product_category_name'].unique()"
   ]
  },
  {
   "cell_type": "code",
   "execution_count": null,
   "metadata": {},
   "outputs": [],
   "source": [
    "len(df_clean['product_category_name'].unique())"
   ]
  },
  {
   "cell_type": "code",
   "execution_count": null,
   "metadata": {},
   "outputs": [],
   "source": [
    "df_clean[df_clean['product_category_name'] == 'la_cuisine']"
   ]
  },
  {
   "cell_type": "code",
   "execution_count": null,
   "metadata": {
    "id": "POQvXxHF_ynM"
   },
   "outputs": [],
   "source": [
    "df_lacuisine = df_clean[df_clean['product_category_name'] == 'la_cuisine']"
   ]
  },
  {
   "cell_type": "code",
   "execution_count": null,
   "metadata": {},
   "outputs": [],
   "source": [
    "df_lacuisine"
   ]
  },
  {
   "cell_type": "code",
   "execution_count": null,
   "metadata": {},
   "outputs": [],
   "source": [
    "#Para facilitar a nossa aula, vamos renomear o df_clean apenas para df - não façam isso em casa \\o/\n",
    "\n",
    "df = df_clean.copy()"
   ]
  },
  {
   "cell_type": "code",
   "execution_count": null,
   "metadata": {
    "colab": {
     "base_uri": "https://localhost:8080/"
    },
    "id": "K02gFQMUdwT3",
    "outputId": "34cd129f-9c44-44f4-ca4d-f7acf8cffa8e"
   },
   "outputs": [],
   "source": [
    "df['customer_city'].unique()"
   ]
  },
  {
   "cell_type": "code",
   "execution_count": null,
   "metadata": {},
   "outputs": [],
   "source": [
    "df[df['customer_city'] == 'sao paulo']['customer_city'].unique()"
   ]
  },
  {
   "cell_type": "code",
   "execution_count": null,
   "metadata": {},
   "outputs": [],
   "source": [
    "df[df['customer_city'] == 'sao paulo']"
   ]
  },
  {
   "cell_type": "code",
   "execution_count": null,
   "metadata": {},
   "outputs": [],
   "source": [
    "df[(df['customer_city'] == 'sao paulo') & (df['product_category_name'] == 'la_cuisine')]"
   ]
  },
  {
   "cell_type": "code",
   "execution_count": null,
   "metadata": {},
   "outputs": [],
   "source": [
    "saopaulo_lacuisine = df[(df['customer_city'] == 'sao paulo') & (df['product_category_name'] == 'la_cuisine')]"
   ]
  },
  {
   "cell_type": "code",
   "execution_count": null,
   "metadata": {},
   "outputs": [],
   "source": [
    "saopaulo_lacuisine"
   ]
  },
  {
   "cell_type": "code",
   "execution_count": null,
   "metadata": {},
   "outputs": [],
   "source": [
    "df[df['price'] >=100]"
   ]
  },
  {
   "cell_type": "code",
   "execution_count": null,
   "metadata": {},
   "outputs": [],
   "source": [
    "df['customer_state'].unique()"
   ]
  },
  {
   "cell_type": "code",
   "execution_count": null,
   "metadata": {},
   "outputs": [],
   "source": [
    "df[(df['customer_state'] == 'SP') & (df['product_category_name'] == 'fashion_roupa_masculina') & (df.price >= 100)]"
   ]
  },
  {
   "cell_type": "code",
   "execution_count": null,
   "metadata": {},
   "outputs": [],
   "source": [
    "df[(df['customer_state'] == 'SP') | (df['customer_state'] == 'RJ')]"
   ]
  },
  {
   "cell_type": "code",
   "execution_count": null,
   "metadata": {},
   "outputs": [],
   "source": [
    "df[df['customer_state'] != 'RS']"
   ]
  },
  {
   "attachments": {},
   "cell_type": "markdown",
   "metadata": {
    "id": "KlTm8WAREkCG"
   },
   "source": [
    "Quando precisamos fazer muitos filtros, podemos declará-los anterioremente"
   ]
  },
  {
   "cell_type": "code",
   "execution_count": null,
   "metadata": {},
   "outputs": [],
   "source": [
    "filt1 = df['customer_state'] == 'SP'"
   ]
  },
  {
   "cell_type": "code",
   "execution_count": null,
   "metadata": {},
   "outputs": [],
   "source": [
    "filt2 = df['product_category_name'] == 'fashion_roupa_masculina'"
   ]
  },
  {
   "cell_type": "code",
   "execution_count": null,
   "metadata": {},
   "outputs": [],
   "source": [
    "filt3 = df.price > 100"
   ]
  },
  {
   "cell_type": "code",
   "execution_count": null,
   "metadata": {
    "id": "-R3H6sGqEjim"
   },
   "outputs": [],
   "source": [
    "filt3"
   ]
  },
  {
   "cell_type": "code",
   "execution_count": null,
   "metadata": {},
   "outputs": [],
   "source": [
    "df[filt1 & filt2 & filt3]"
   ]
  },
  {
   "cell_type": "code",
   "execution_count": null,
   "metadata": {},
   "outputs": [],
   "source": [
    "filtro_multiplo = df[filt1 & filt2 & filt3]"
   ]
  },
  {
   "cell_type": "code",
   "execution_count": null,
   "metadata": {},
   "outputs": [],
   "source": [
    "filtro_multiplo"
   ]
  },
  {
   "cell_type": "code",
   "execution_count": null,
   "metadata": {
    "colab": {
     "base_uri": "https://localhost:8080/"
    },
    "id": "t_uAEOLCFdZE",
    "outputId": "84de3d4e-1adc-4a0a-f253-ca8d77869fe5"
   },
   "outputs": [],
   "source": [
    "df['price'].describe()"
   ]
  },
  {
   "cell_type": "code",
   "execution_count": null,
   "metadata": {},
   "outputs": [],
   "source": [
    "df[df['price'].between(74, 6000)]"
   ]
  },
  {
   "cell_type": "code",
   "execution_count": null,
   "metadata": {},
   "outputs": [],
   "source": [
    "df[df['price'].between(74,6000)]"
   ]
  },
  {
   "cell_type": "code",
   "execution_count": null,
   "metadata": {},
   "outputs": [],
   "source": [
    "df_vendas = df[df['price'].between(74,6000)]"
   ]
  },
  {
   "cell_type": "code",
   "execution_count": null,
   "metadata": {},
   "outputs": [],
   "source": [
    "df_vendas"
   ]
  },
  {
   "cell_type": "code",
   "execution_count": null,
   "metadata": {},
   "outputs": [],
   "source": [
    "df_vendas.sort_values(by='price', ascending = False).head()"
   ]
  },
  {
   "cell_type": "code",
   "execution_count": null,
   "metadata": {},
   "outputs": [],
   "source": [
    "df[(df['customer_state'] == 'SP') & (df['product_category_name'] == 'fashion_roupa_masculina')]['freight_value'].sum()"
   ]
  },
  {
   "cell_type": "code",
   "execution_count": null,
   "metadata": {},
   "outputs": [],
   "source": [
    "df['price'].mean()"
   ]
  },
  {
   "cell_type": "code",
   "execution_count": null,
   "metadata": {},
   "outputs": [],
   "source": [
    "df_vendas['price'].mean()"
   ]
  },
  {
   "attachments": {},
   "cell_type": "markdown",
   "metadata": {
    "id": "7qfj0m2qGjZK"
   },
   "source": [
    "### Modificando nosso Dataframe e criando novas variáveis"
   ]
  },
  {
   "attachments": {},
   "cell_type": "markdown",
   "metadata": {},
   "source": [
    "A engenharia de características (feature engineering), ou a criação de novas variáveis, é um dos aspectos mais importantes e poderosos de qualquer processo de análise de dados. Embora os dados brutos possam conter uma grande quantidade de informações, nem sempre eles estão na forma mais útil de ser usada, ou até mesmo mais prática. Ao criar novas variáveis, podemos extrair informações adicionais dos dados, revelar padrões ocultos, melhorar a precisão dos modelos e muito mais."
   ]
  },
  {
   "attachments": {},
   "cell_type": "markdown",
   "metadata": {
    "id": "9pCF1DP4GoKp"
   },
   "source": [
    "**Criando colunas novas**"
   ]
  },
  {
   "attachments": {},
   "cell_type": "markdown",
   "metadata": {
    "id": "xNH7xSq2Gr52"
   },
   "source": [
    "Para criar colunas, usamos a seguinte forma:\n",
    "\n",
    "df['coluna_nova'] = REGRA_DA_NOVA_COLUNA"
   ]
  },
  {
   "cell_type": "code",
   "execution_count": null,
   "metadata": {},
   "outputs": [],
   "source": [
    "df['total_order_value'] = df['price'] + df['freight_value']\n",
    "\n",
    "df['total_order_value']"
   ]
  },
  {
   "cell_type": "code",
   "execution_count": null,
   "metadata": {},
   "outputs": [],
   "source": [
    "df"
   ]
  },
  {
   "cell_type": "code",
   "execution_count": null,
   "metadata": {},
   "outputs": [],
   "source": [
    "# Criando a variável 'total_order_value' que é a soma do preço do produto e o valor do frete\n",
    "df['total_order_value'] = df['price'] + df['freight_value']\n",
    "\n",
    "df['total_order_value']"
   ]
  },
  {
   "cell_type": "code",
   "execution_count": null,
   "metadata": {
    "colab": {
     "base_uri": "https://localhost:8080/",
     "height": 547
    },
    "id": "FTUDCMRlJYyk",
    "outputId": "502a7bef-dd42-45a8-e7e7-5f352ace3bcf",
    "scrolled": true
   },
   "outputs": [],
   "source": [
    "df.head()"
   ]
  },
  {
   "cell_type": "code",
   "execution_count": null,
   "metadata": {},
   "outputs": [],
   "source": [
    "df.info()"
   ]
  },
  {
   "cell_type": "code",
   "execution_count": null,
   "metadata": {},
   "outputs": [],
   "source": [
    "df['order_purchase_year'] = df['order_purchase_timestamp'].dt.year"
   ]
  },
  {
   "cell_type": "code",
   "execution_count": null,
   "metadata": {},
   "outputs": [],
   "source": [
    "df.head()"
   ]
  },
  {
   "cell_type": "code",
   "execution_count": null,
   "metadata": {},
   "outputs": [],
   "source": [
    "# Criando a variável 'order_purchase_year' que é o ano em que o pedido foi feito\n",
    "df['order_purchase_year'] = df['order_purchase_timestamp'].dt.year\n",
    "# Criando a variável 'order_purchase_month' que é o mês em que o pedido foi feito\n",
    "df['order_purchase_month'] = df['order_purchase_timestamp'].dt.month\n",
    "# Criando a variável 'order_purchase_day' que é o dia em que o pedido foi feito\n",
    "df['order_purchase_day'] = df['order_purchase_timestamp'].dt.day\n",
    "# Criando a variável 'order_purchase_hour' que é a hora em que o pedido foi feito\n",
    "df['order_purchase_hour'] = df['order_purchase_timestamp'].dt.hour\n",
    "# Criando a variável 'order_purchase_dayofweek' que é o dia da semana em que o pedido foi feito\n",
    "df['order_purchase_dayofweek'] = df['order_purchase_timestamp'].dt.dayofweek"
   ]
  },
  {
   "cell_type": "code",
   "execution_count": null,
   "metadata": {},
   "outputs": [],
   "source": []
  },
  {
   "cell_type": "code",
   "execution_count": null,
   "metadata": {},
   "outputs": [],
   "source": [
    "df.head()"
   ]
  },
  {
   "cell_type": "code",
   "execution_count": null,
   "metadata": {
    "id": "YdN3W4eaHd1Q"
   },
   "outputs": [],
   "source": [
    "df['tempo_para_envio'] = df['order_delivered_customer_date'] - df['order_purchase_timestamp']"
   ]
  },
  {
   "cell_type": "code",
   "execution_count": null,
   "metadata": {
    "colab": {
     "base_uri": "https://localhost:8080/",
     "height": 547
    },
    "id": "l28gEygnLsnX",
    "outputId": "563fdaa0-c8a6-408d-8742-93f6797f01c2"
   },
   "outputs": [],
   "source": [
    "df.head(3)"
   ]
  },
  {
   "cell_type": "code",
   "execution_count": null,
   "metadata": {},
   "outputs": [],
   "source": [
    "df['tempo_para_envio'].describe()"
   ]
  },
  {
   "cell_type": "code",
   "execution_count": null,
   "metadata": {},
   "outputs": [],
   "source": [
    "df['order_purchase_month'].astype(str) + '-' + df['order_purchase_year'].astype(str)"
   ]
  },
  {
   "cell_type": "code",
   "execution_count": null,
   "metadata": {},
   "outputs": [],
   "source": [
    "df['CHAVE-MES-ANO'] = df['order_purchase_month'].astype(str) + '-' + df['order_purchase_year'].astype(str)"
   ]
  },
  {
   "cell_type": "code",
   "execution_count": null,
   "metadata": {},
   "outputs": [],
   "source": [
    "df.head()"
   ]
  },
  {
   "attachments": {},
   "cell_type": "markdown",
   "metadata": {
    "id": "N0Hd6uA6G8Zc"
   },
   "source": [
    "### Ponto de Parada - Funções"
   ]
  },
  {
   "attachments": {},
   "cell_type": "markdown",
   "metadata": {
    "id": "Fi6zKzegH_8t"
   },
   "source": [
    "**Funções em Python**\n",
    "\n",
    "Uma função é um bloco de código reutilizável que executa uma tarefa específica. Funções são fundamentais para a programação em Python e muitas outras linguagens de programação, pois permitem modularizar e organizar o código de maneira eficaz.\n",
    "\n",
    "Em Python, usamos a palavra-chave def para definir uma função. Aqui está um exemplo de como definir uma função que adiciona dois números:\n",
    "\n",
    "\n",
    "\n",
    "```\n",
    "def NOME( PARÂMETROS ):\n",
    "\n",
    "    COMANDOS\n",
    "```\n",
    "\n",
    "Exemplo:\n",
    "\n",
    "\n",
    "\n",
    "```\n",
    "def adicionar_dois_numeros(num1, num2):\n",
    "\n",
    "    return num1 + num2\n",
    "```\n",
    "\n",
    "Neste exemplo, adicionar_dois_numeros é o nome da função e num1 e num2 são os parâmetros da função. A palavra-chave return é usada para especificar o resultado que a função deve retornar.\n",
    "\n",
    "\n",
    "Você pode inventar qualquer nome para as funções que você cria, exceto que você não pode usar um nome que é uma palavra reservada em Python, e que os nomes devem seguir a regra de identificadores permitidos. Os parâmetros especificam qual informação, se alguma, você deve providenciar para que a função possa ser usada. Outra forma de dizer isto é que os parâmetros especificam o que a função necessita para executar a sua tarefa."
   ]
  },
  {
   "attachments": {},
   "cell_type": "markdown",
   "metadata": {
    "id": "PRN6W_iZLWMC"
   },
   "source": [
    "Vamos ver mais usos de funções mais para frente"
   ]
  },
  {
   "cell_type": "code",
   "execution_count": null,
   "metadata": {},
   "outputs": [],
   "source": [
    "def adicionar_dois_numeros(num1, num2):\n",
    "    return num1 + num2"
   ]
  },
  {
   "cell_type": "code",
   "execution_count": null,
   "metadata": {},
   "outputs": [],
   "source": [
    "adicionar_dois_numeros(1000, 548)"
   ]
  },
  {
   "cell_type": "code",
   "execution_count": null,
   "metadata": {},
   "outputs": [],
   "source": [
    "df.columns"
   ]
  },
  {
   "cell_type": "code",
   "execution_count": null,
   "metadata": {},
   "outputs": [],
   "source": [
    "media_valor_total = df['total_order_value'].mean()"
   ]
  },
  {
   "cell_type": "code",
   "execution_count": null,
   "metadata": {},
   "outputs": [],
   "source": [
    "media_valor_total"
   ]
  },
  {
   "cell_type": "code",
   "execution_count": null,
   "metadata": {},
   "outputs": [],
   "source": [
    "def acima_ou_abaixo(x):\n",
    "\n",
    "    media_valor_total = df['total_order_value'].mean()\n",
    "\n",
    "    if x >= media_valor_total:\n",
    "        return 'ACIMA'\n",
    "    else:\n",
    "        return 'ABAIXO'"
   ]
  },
  {
   "cell_type": "code",
   "execution_count": null,
   "metadata": {},
   "outputs": [],
   "source": [
    "def acima_ou_abaixo(x):\n",
    "    \n",
    "    \"\"\"\n",
    "    Essa função retorna \"acima\" para valores acima da média de vendas, e abaixo, para valores abaixo\n",
    "    \"\"\"\n",
    "    \n",
    "    media_valor_total = df['total_order_value'].mean()\n",
    "    \n",
    "    if x >= media_valor_total:\n",
    "        return 'ACIMA'\n",
    "    else:\n",
    "        return 'ABAIXO'\n",
    "    \n",
    "    "
   ]
  },
  {
   "cell_type": "code",
   "execution_count": null,
   "metadata": {},
   "outputs": [],
   "source": [
    "df['COMPARATIVO_VALOR'] = df['total_order_value'].apply(acima_ou_abaixo)"
   ]
  },
  {
   "cell_type": "code",
   "execution_count": null,
   "metadata": {},
   "outputs": [],
   "source": [
    "df.head()"
   ]
  },
  {
   "cell_type": "code",
   "execution_count": null,
   "metadata": {},
   "outputs": [],
   "source": [
    "df['COMPARATIVO_VALOR'].value_counts(normalize=True)"
   ]
  },
  {
   "cell_type": "code",
   "execution_count": null,
   "metadata": {},
   "outputs": [],
   "source": [
    "df['order_purchase_hour'].unique()"
   ]
  },
  {
   "cell_type": "code",
   "execution_count": null,
   "metadata": {},
   "outputs": [],
   "source": [
    "def categorizar_compra(hora):\n",
    "\n",
    "    if 0 <= hora < 6:\n",
    "        return 'Madrugada'\n",
    "    elif 6 <= hora < 12:\n",
    "        return 'Manhã'\n",
    "    elif 12 <= hora < 18:\n",
    "        return 'Tarde'\n",
    "    else:\n",
    "        return 'Noite'\n",
    "    \n",
    "df['order_purchase_timeofday'] = df['order_purchase_hour'].apply(categorizar_compra)"
   ]
  },
  {
   "cell_type": "code",
   "execution_count": null,
   "metadata": {},
   "outputs": [],
   "source": [
    "df.head()"
   ]
  },
  {
   "cell_type": "code",
   "execution_count": null,
   "metadata": {},
   "outputs": [],
   "source": [
    "df['order_purchase_timeofday'].value_counts(normalize=True)"
   ]
  },
  {
   "cell_type": "code",
   "execution_count": null,
   "metadata": {},
   "outputs": [],
   "source": [
    "# Função para categorizar o horário do pedido\n",
    "def categorize_hour(hour):\n",
    "    if 0 <= hour < 6:\n",
    "        return 'Early Morning'\n",
    "    elif 6 <= hour < 12:\n",
    "        return 'Morning'\n",
    "    elif 12 <= hour < 18:\n",
    "        return 'Afternoon'\n",
    "    else:\n",
    "        return 'Evening'\n",
    "    \n",
    "# Criando a variável 'order_purchase_timeofday' que é a categoria de horário do pedido\n",
    "df['order_purchase_timeofday'] = df['order_purchase_hour'].apply(categorize_hour)\n",
    "\n",
    "df.head(3)"
   ]
  },
  {
   "cell_type": "code",
   "execution_count": null,
   "metadata": {},
   "outputs": [],
   "source": [
    "def categorize_total_order_value(value):\n",
    "\n",
    "    if value < 50:\n",
    "        return 'Baixo'\n",
    "    elif 50 <= value < 200:\n",
    "        return 'Medio'\n",
    "    else:\n",
    "        return 'Alto'\n",
    "    \n",
    "df['total_order_value_category'] = df['total_order_value'].apply(categorize_total_order_value)\n",
    "\n",
    "df.total_order_value_category.value_counts()"
   ]
  },
  {
   "cell_type": "code",
   "execution_count": null,
   "metadata": {},
   "outputs": [],
   "source": [
    "# Função para categorizar o valor total do pedido\n",
    "def categorize_total_order_value(value):\n",
    "    if value < 50:\n",
    "        return 'Low'\n",
    "    elif 50 <= value < 200:\n",
    "        return 'Medium'\n",
    "    else:\n",
    "        return 'High'\n",
    "    \n",
    "# Criando a variável 'total_order_value_category' que é a categoria do valor total do pedido\n",
    "df['total_order_value_category'] = df['total_order_value'].apply(categorize_total_order_value)\n",
    "\n",
    "df.total_order_value_category.value_counts()"
   ]
  },
  {
   "cell_type": "code",
   "execution_count": null,
   "metadata": {},
   "outputs": [],
   "source": [
    "df[['total_order_value_category', 'order_purchase_timeofday']].value_counts()"
   ]
  },
  {
   "cell_type": "code",
   "execution_count": null,
   "metadata": {},
   "outputs": [],
   "source": [
    "def categorize_order(periodo, categoria):\n",
    "\n",
    "    if periodo == 'Manhã' and categoria == 'Alto':\n",
    "        return 'High Value Morning Order'\n",
    "    elif periodo == 'Tarde' and categoria == 'Alto':\n",
    "        return 'High Value Afternoon Order'\n",
    "    elif periodo in ['Noite', 'Madrugada'] and categoria == 'Alto':\n",
    "        return 'High Value Off-Peak Order'\n",
    "    elif categoria == 'Medio':\n",
    "        return 'Medium Value Order'\n",
    "    else:\n",
    "        return 'Low Value Order'\n",
    "    \n",
    "df['categoria_da_ordem'] = df.apply(lambda x: categorize_order(x['order_purchase_timeofday'], x['total_order_value_category']), axis = 1)"
   ]
  },
  {
   "cell_type": "code",
   "execution_count": null,
   "metadata": {},
   "outputs": [],
   "source": [
    "def categorize_order(periodo, categoria):\n",
    "\n",
    "    if periodo == 'Manhã' and categoria == 'Alto':\n",
    "        return 'High Value Morning Order'\n",
    "    elif periodo == 'Tarde' and categoria == 'Alto':\n",
    "        return 'High Value Afternoon Order'\n",
    "    elif periodo ==  'Noite' and categoria == 'Alto':\n",
    "        return 'High Value Off-Peak Order'\n",
    "    elif periodo ==  'Madrugada' and categoria == 'Alto':\n",
    "        return 'High Value Off-Peak Order'\n",
    "    elif categoria == 'Medio':\n",
    "        return 'Medium Value Order'\n",
    "    else:\n",
    "        return 'Low Value Order'"
   ]
  },
  {
   "cell_type": "code",
   "execution_count": null,
   "metadata": {},
   "outputs": [],
   "source": [
    "df['categoria_da_ordem'] = df.apply(lambda x: categorize_order(x['order_purchase_timeofday'], x['total_order_value_category']), axis = 1)"
   ]
  },
  {
   "cell_type": "code",
   "execution_count": null,
   "metadata": {},
   "outputs": [],
   "source": [
    "df['categoria_da_ordem']"
   ]
  },
  {
   "cell_type": "code",
   "execution_count": null,
   "metadata": {},
   "outputs": [],
   "source": [
    "# Função para categorizar o pedido com base no horário e no valor total\n",
    "def categorize_order(timeofday, value_category):\n",
    "    if timeofday == 'Morning' and value_category == 'High':\n",
    "        return 'High Value Morning Order'\n",
    "    elif timeofday == 'Afternoon' and value_category == 'High':\n",
    "        return 'High Value Afternoon Order'\n",
    "    elif timeofday in ['Early Morning', 'Evening'] and value_category == 'High':\n",
    "        return 'High Value Off-Peak Order'\n",
    "    elif value_category == 'Medium':\n",
    "        return 'Medium Value Order'\n",
    "    else:\n",
    "        return 'Low Value Order'\n",
    "    \n",
    "# Criando a variável 'order_category' que é a categoria do pedido com base no horário e no valor total\n",
    "df['order_category'] = df.apply(lambda x: categorize_order(x['order_purchase_timeofday'], x['total_order_value_category']), axis=1)"
   ]
  },
  {
   "cell_type": "code",
   "execution_count": null,
   "metadata": {},
   "outputs": [],
   "source": [
    "df.order_category.value_counts(normalize=True)"
   ]
  },
  {
   "attachments": {},
   "cell_type": "markdown",
   "metadata": {
    "id": "PIwreboMyjUA"
   },
   "source": [
    "***Ponto de Parada***\n",
    "\n",
    "Dicionários\n",
    "\n",
    "Em Python, um dicionário é uma estrutura de dados que armazena pares de valores-chave. Cada valor é associado a uma chave única, que pode ser usada para acessar o valor posteriormente. Diferente das listas e tuplas, que são indexadas por um intervalo de números, os dicionários são indexados por chaves, que podem ser de qualquer tipo imutável.\n",
    "\n",
    "Aqui está um exemplo de como definir um dicionário:\n",
    "\n",
    "\n",
    "\n",
    "```\n",
    "{\n",
    "  'chave1': 'valor1',\n",
    "  'chave2': 'valor2',\n",
    "  ....\n",
    "}\n",
    "```\n",
    "\n",
    "\n"
   ]
  },
  {
   "cell_type": "code",
   "execution_count": null,
   "metadata": {},
   "outputs": [],
   "source": [
    "meu_dicionario = {\n",
    "    'nome': 'Joao',\n",
    "    'idade': 30,\n",
    "    'cidade': 'São Paulo'\n",
    "}"
   ]
  },
  {
   "cell_type": "code",
   "execution_count": null,
   "metadata": {},
   "outputs": [],
   "source": [
    "meu_dicionario"
   ]
  },
  {
   "attachments": {},
   "cell_type": "markdown",
   "metadata": {},
   "source": [
    "Neste exemplo, nome, idade e cidade são as chaves, e 'João', 30 e 'São Paulo' são os respectivos valores.\n",
    "\n",
    "Podemos acessar um valor em um dicionário referindo-se à sua chave:"
   ]
  },
  {
   "cell_type": "code",
   "execution_count": null,
   "metadata": {},
   "outputs": [],
   "source": [
    "meu_dicionario.values()"
   ]
  },
  {
   "cell_type": "code",
   "execution_count": null,
   "metadata": {},
   "outputs": [],
   "source": [
    "meu_dicionario.keys()"
   ]
  },
  {
   "cell_type": "code",
   "execution_count": null,
   "metadata": {},
   "outputs": [],
   "source": [
    "meu_dicionario['nome']"
   ]
  },
  {
   "cell_type": "code",
   "execution_count": null,
   "metadata": {
    "colab": {
     "base_uri": "https://localhost:8080/"
    },
    "id": "5aGmBLxmzgfe",
    "outputId": "dc19162d-5fdb-4658-db2a-6982f18c3946"
   },
   "outputs": [],
   "source": [
    "nome = meu_dicionario['nome']\n",
    "print(nome)  # Saída: João\n"
   ]
  },
  {
   "attachments": {},
   "cell_type": "markdown",
   "metadata": {
    "id": "1rYF72h40HL6"
   },
   "source": [
    "Como usamos dicionários para criar uma nova coluna no nosso dataframe?"
   ]
  },
  {
   "cell_type": "code",
   "execution_count": null,
   "metadata": {},
   "outputs": [],
   "source": [
    "df['order_status'].unique()"
   ]
  },
  {
   "cell_type": "code",
   "execution_count": null,
   "metadata": {},
   "outputs": [],
   "source": [
    "# Criando um dicionário para mapear as categorias de 'order_status' para um valor numérico\n",
    "order_status_mapping = {\n",
    "    'delivered': 0,\n",
    "    'shipped': 1,\n",
    "    'canceled': 2,\n",
    "    'unavailable': 3,\n",
    "    'invoiced': 4,\n",
    "    'processing': 5,\n",
    "    'created': 6,\n",
    "    'approved': 7\n",
    "}"
   ]
  },
  {
   "cell_type": "code",
   "execution_count": null,
   "metadata": {},
   "outputs": [],
   "source": [
    "order_status_mapping"
   ]
  },
  {
   "cell_type": "code",
   "execution_count": null,
   "metadata": {},
   "outputs": [],
   "source": [
    "df['order_status_code'] = df['order_status'].map(order_status_mapping)"
   ]
  },
  {
   "cell_type": "code",
   "execution_count": null,
   "metadata": {},
   "outputs": [],
   "source": [
    "df['order_status_code'].value_counts()"
   ]
  },
  {
   "attachments": {},
   "cell_type": "markdown",
   "metadata": {
    "id": "ohpIzSQO1kbJ"
   },
   "source": [
    "**Excluindo Colunas**"
   ]
  },
  {
   "cell_type": "code",
   "execution_count": null,
   "metadata": {
    "id": "NCe7osSt0yI-"
   },
   "outputs": [],
   "source": [
    "# Criando uma coluna provisória\n",
    "\n",
    "df['NATHAN'] = 'Nathan'"
   ]
  },
  {
   "cell_type": "code",
   "execution_count": null,
   "metadata": {
    "colab": {
     "base_uri": "https://localhost:8080/",
     "height": 547
    },
    "id": "EYHfO0X3Wnou",
    "outputId": "001375f9-b6b0-4b5f-a00f-e011f4caf696"
   },
   "outputs": [],
   "source": [
    "df.head()"
   ]
  },
  {
   "cell_type": "code",
   "execution_count": null,
   "metadata": {},
   "outputs": [],
   "source": [
    "df = df.drop('NATHAN', axis = 1)"
   ]
  },
  {
   "cell_type": "code",
   "execution_count": null,
   "metadata": {},
   "outputs": [],
   "source": [
    "df.shape"
   ]
  },
  {
   "attachments": {},
   "cell_type": "markdown",
   "metadata": {},
   "source": [
    "### Removendo valores duplicados"
   ]
  },
  {
   "cell_type": "code",
   "execution_count": null,
   "metadata": {},
   "outputs": [],
   "source": [
    "df.info()"
   ]
  },
  {
   "cell_type": "code",
   "execution_count": null,
   "metadata": {},
   "outputs": [],
   "source": [
    "df.nunique()"
   ]
  },
  {
   "cell_type": "code",
   "execution_count": null,
   "metadata": {},
   "outputs": [],
   "source": [
    "df.order_id.value_counts()"
   ]
  },
  {
   "attachments": {},
   "cell_type": "markdown",
   "metadata": {},
   "source": [
    "Olha sóooo, temos ordens duplicadas no nosso dataframe! Porque será?"
   ]
  },
  {
   "cell_type": "code",
   "execution_count": null,
   "metadata": {},
   "outputs": [],
   "source": [
    "df[df.order_id == '895ab968e7bb0d5659d16cd74cd1650c'][['product_id', 'order_item_id', 'seller_id', 'shipping_limit_date',\n",
    "       'price', 'freight_value', 'payment_sequential', 'payment_type',\n",
    "       'payment_installments', 'payment_value']]"
   ]
  },
  {
   "cell_type": "code",
   "execution_count": null,
   "metadata": {},
   "outputs": [],
   "source": [
    "df[df.order_id == '895ab968e7bb0d5659d16cd74cd1650c'][['product_id', 'seller_id', 'shipping_limit_date',\n",
    "       'price', 'freight_value', 'payment_sequential', 'payment_type',\n",
    "       'payment_installments', 'payment_value']]['payment_sequential'].max()"
   ]
  },
  {
   "cell_type": "code",
   "execution_count": null,
   "metadata": {},
   "outputs": [],
   "source": [
    "df[df.product_id == 'ebf9bc6cd600eadd681384e3116fda85'][['order_id','seller_id', 'price', 'freight_value', 'payment_sequential', 'payment_type',\n",
    "       'payment_installments', 'payment_value']]"
   ]
  },
  {
   "attachments": {},
   "cell_type": "markdown",
   "metadata": {},
   "source": [
    "O que fazemos com essa informação? Tarefa de casa"
   ]
  },
  {
   "attachments": {},
   "cell_type": "markdown",
   "metadata": {
    "id": "-x68D8ByS17g"
   },
   "source": [
    "**OS SES do Excel**\n",
    "\n",
    "MEDIASE, SOMASE..."
   ]
  },
  {
   "cell_type": "code",
   "execution_count": null,
   "metadata": {},
   "outputs": [],
   "source": [
    "soma_pagamentos_SP = df[(df['customer_state'] == 'SP')]['payment_value'].sum()"
   ]
  },
  {
   "cell_type": "code",
   "execution_count": null,
   "metadata": {
    "colab": {
     "base_uri": "https://localhost:8080/"
    },
    "id": "QxrzdnMKTi_8",
    "outputId": "9dc83f4f-8f99-4320-fdfb-7e5b57f34625"
   },
   "outputs": [],
   "source": [
    "media_pagamentos_SP = df[(df['customer_state'] == 'SP')]['payment_value'].mean()"
   ]
  },
  {
   "cell_type": "code",
   "execution_count": null,
   "metadata": {},
   "outputs": [],
   "source": [
    "dicionario_SP = {\n",
    "    'Soma de pagamentos SP': soma_pagamentos_SP,\n",
    "    'Médias Pagamentos SP': media_pagamentos_SP,\n",
    "}"
   ]
  },
  {
   "cell_type": "code",
   "execution_count": null,
   "metadata": {},
   "outputs": [],
   "source": [
    "pd.DataFrame(dicionario_SP.items()).to_excel('../data/tratado/teste.xlsx')"
   ]
  },
  {
   "attachments": {},
   "cell_type": "markdown",
   "metadata": {
    "id": "nVoYu12ZVCKH"
   },
   "source": [
    "**Quartil**"
   ]
  },
  {
   "cell_type": "code",
   "execution_count": null,
   "metadata": {
    "colab": {
     "base_uri": "https://localhost:8080/"
    },
    "id": "vpBDRPMUVUue",
    "outputId": "c3014d6a-1929-42f0-990f-d30d5fd609d5"
   },
   "outputs": [],
   "source": [
    "df['price'].quantile(0.01)"
   ]
  },
  {
   "attachments": {},
   "cell_type": "markdown",
   "metadata": {
    "id": "lQbm0UqTW8PA"
   },
   "source": [
    "# **Agrupamentos**"
   ]
  },
  {
   "attachments": {},
   "cell_type": "markdown",
   "metadata": {
    "id": "bgHkM2TuXAm4"
   },
   "source": [
    "Agrupamentos são artifícios muito importantes na Análise de Dados, que nos permite sumarizar dados de maneira rápida e intuitiva.\n",
    "\n",
    "Para uma boa análise de dados é importante que você separe algum tempo para se perguntar:\n",
    "\n",
    "\n",
    "\n",
    "*   O que quero descobrir?\n",
    "*   Qual o nível de informação que preciso obter\n",
    "\n",
    "Agora vamos criar alguns agrupamentos e continuar mostrando algumas funções importantes para vocês.\n",
    "\n"
   ]
  },
  {
   "cell_type": "code",
   "execution_count": null,
   "metadata": {},
   "outputs": [],
   "source": [
    "df.columns"
   ]
  },
  {
   "cell_type": "code",
   "execution_count": null,
   "metadata": {},
   "outputs": [],
   "source": [
    "df.groupby('customer_state')['payment_value'].sum().reset_index()"
   ]
  },
  {
   "cell_type": "code",
   "execution_count": null,
   "metadata": {},
   "outputs": [],
   "source": [
    "df.groupby(['customer_state', 'payment_type'])['payment_value'].sum().reset_index()"
   ]
  },
  {
   "cell_type": "code",
   "execution_count": null,
   "metadata": {},
   "outputs": [],
   "source": [
    "nova_tabela = df.groupby(['customer_state', 'payment_type'])['payment_value'].sum().reset_index()"
   ]
  },
  {
   "cell_type": "code",
   "execution_count": null,
   "metadata": {},
   "outputs": [],
   "source": [
    "nova_tabela"
   ]
  },
  {
   "cell_type": "code",
   "execution_count": null,
   "metadata": {},
   "outputs": [],
   "source": [
    "tabela_estado_pagamento_categoria = df.groupby(['customer_state', 'payment_type','product_category_name'])['payment_value'].sum().reset_index()\n",
    "\n",
    "tabela_estado_pagamento_categoria.to_excel('../data/arquivos/tabela_estado_pagamento_categoria.xlsx')"
   ]
  },
  {
   "cell_type": "code",
   "execution_count": null,
   "metadata": {},
   "outputs": [],
   "source": [
    "df.groupby(['customer_state', 'payment_type']).agg({\n",
    "    'payment_value': ['sum', 'min', 'mean']\n",
    "}).reset_index()"
   ]
  },
  {
   "cell_type": "code",
   "execution_count": null,
   "metadata": {},
   "outputs": [],
   "source": [
    "vendas_mean_sum_min = df.groupby(['customer_state', 'product_category_name']).agg({\n",
    "    'payment_value' : ['sum', 'min', 'mean']\n",
    "}).reset_index()"
   ]
  },
  {
   "cell_type": "code",
   "execution_count": null,
   "metadata": {},
   "outputs": [],
   "source": [
    "vendas_mean_sum_min"
   ]
  },
  {
   "attachments": {},
   "cell_type": "markdown",
   "metadata": {
    "id": "H6f4jwNyaJw3"
   },
   "source": [
    "E se quisermos agrupar por alguma referência de tempo?"
   ]
  },
  {
   "cell_type": "code",
   "execution_count": null,
   "metadata": {},
   "outputs": [],
   "source": [
    "df.groupby(pd.Grouper(key = 'order_purchase_timestamp', freq='3M'))['payment_value'].sum().reset_index()"
   ]
  },
  {
   "cell_type": "code",
   "execution_count": null,
   "metadata": {},
   "outputs": [],
   "source": [
    "df.groupby(pd.Grouper(key = 'order_purchase_timestamp', freq='Y'))['payment_value'].sum().reset_index()"
   ]
  },
  {
   "cell_type": "code",
   "execution_count": null,
   "metadata": {},
   "outputs": [],
   "source": [
    "df.groupby(['customer_state' , pd.Grouper(key = 'order_purchase_timestamp', freq='3M')])['payment_value'].sum().reset_index()"
   ]
  },
  {
   "cell_type": "code",
   "execution_count": null,
   "metadata": {},
   "outputs": [],
   "source": [
    "df.groupby(['customer_state',pd.Grouper(key = 'order_purchase_timestamp', freq='3M'), 'product_category_name'])['payment_value'].sum().reset_index()"
   ]
  },
  {
   "cell_type": "code",
   "execution_count": null,
   "metadata": {},
   "outputs": [],
   "source": [
    "df.groupby([pd.Grouper(key = 'order_purchase_timestamp', freq='M'),'product_category_name'])['payment_value'].sum().reset_index()"
   ]
  },
  {
   "cell_type": "code",
   "execution_count": null,
   "metadata": {
    "id": "NkKYD1S1ay9j"
   },
   "outputs": [],
   "source": [
    "#Podemos calcular a soma também somente pelo tempo, sem colocar outro índice\n",
    "\n",
    "soma_vendas_mes = df.groupby(pd.Grouper(key = 'order_purchase_timestamp', freq = 'M'))['payment_value'].sum().reset_index()"
   ]
  },
  {
   "cell_type": "code",
   "execution_count": null,
   "metadata": {
    "colab": {
     "base_uri": "https://localhost:8080/",
     "height": 1000
    },
    "id": "wBGqc4QWbJkl",
    "outputId": "ad4e12e1-8302-474d-942c-2342e71937a1"
   },
   "outputs": [],
   "source": [
    "soma_vendas_mes.head()"
   ]
  },
  {
   "cell_type": "code",
   "execution_count": null,
   "metadata": {},
   "outputs": [],
   "source": [
    "soma_vendas_mes['AUMENTO_VENDAS'] = soma_vendas_mes['payment_value'].diff()"
   ]
  },
  {
   "cell_type": "code",
   "execution_count": null,
   "metadata": {
    "colab": {
     "base_uri": "https://localhost:8080/",
     "height": 1000
    },
    "id": "n9xZgLO2blRV",
    "outputId": "5b0589d8-430e-444a-fe3d-6f127ce61fba"
   },
   "outputs": [],
   "source": [
    "soma_vendas_mes"
   ]
  },
  {
   "cell_type": "code",
   "execution_count": null,
   "metadata": {
    "id": "s1GS3NZ7bmiF"
   },
   "outputs": [],
   "source": [
    "soma_vendas_mes['AUMENTO_VENDAS_PCT'] = soma_vendas_mes['payment_value'].pct_change() * 100"
   ]
  },
  {
   "cell_type": "code",
   "execution_count": null,
   "metadata": {
    "colab": {
     "base_uri": "https://localhost:8080/",
     "height": 1000
    },
    "id": "e6sckcf6drtY",
    "outputId": "03708b5c-7040-4385-97d3-fd70a9645d96"
   },
   "outputs": [],
   "source": [
    "soma_vendas_mes"
   ]
  },
  {
   "attachments": {},
   "cell_type": "markdown",
   "metadata": {},
   "source": [
    "#### Ponto de Parada - Loops"
   ]
  },
  {
   "attachments": {},
   "cell_type": "markdown",
   "metadata": {},
   "source": [
    "Um loop for é usado para iterar sobre uma sequência (que é uma lista, uma tupla, um dicionário, um conjunto ou uma string).\n",
    "\n",
    "Com o loop for, podemos executar um conjunto de instruções, uma vez para cada item em uma lista, tupla, conjunto etc."
   ]
  },
  {
   "cell_type": "code",
   "execution_count": null,
   "metadata": {},
   "outputs": [],
   "source": [
    "frutas = ['maça', 'banana', 'morango']\n",
    "\n",
    "for fruta in frutas:\n",
    "    print(fruta)\n",
    "    print('----')"
   ]
  },
  {
   "cell_type": "code",
   "execution_count": null,
   "metadata": {},
   "outputs": [],
   "source": [
    "fruits = ['maça', 'banana', 'morango']\n",
    "\n",
    "for x in fruits:\n",
    "    print(x)"
   ]
  },
  {
   "cell_type": "code",
   "execution_count": null,
   "metadata": {},
   "outputs": [],
   "source": [
    "for letra in 'banana':\n",
    "    print(letra)"
   ]
  },
  {
   "cell_type": "code",
   "execution_count": null,
   "metadata": {},
   "outputs": [],
   "source": [
    "for x in 'banana':\n",
    "    print(x)"
   ]
  },
  {
   "cell_type": "code",
   "execution_count": null,
   "metadata": {},
   "outputs": [],
   "source": [
    "fruits = [\"maça\", \"banana\", \"morango\"]\n",
    "\n",
    "\n",
    "for fruta in fruits:\n",
    "    print(fruta)\n",
    "    if fruta == 'banana':\n",
    "        break"
   ]
  },
  {
   "cell_type": "code",
   "execution_count": null,
   "metadata": {},
   "outputs": [],
   "source": [
    "fruits = [\"maça\", \"banana\", \"morango\"]\n",
    "\n",
    "\n",
    "for fruta in fruits:\n",
    "    \n",
    "    if fruta == 'banana':\n",
    "        print(fruta)\n",
    "        break"
   ]
  },
  {
   "cell_type": "code",
   "execution_count": null,
   "metadata": {},
   "outputs": [],
   "source": [
    "fruits = [\"maça\", \"banana\", \"morango\"]\n",
    "\n",
    "for fruta in fruits:\n",
    "    \n",
    "    if fruta == 'banana':\n",
    "        print(fruta)\n",
    "        break"
   ]
  },
  {
   "cell_type": "code",
   "execution_count": null,
   "metadata": {},
   "outputs": [],
   "source": [
    "fruits = [\"maça\", \"banana\", \"morango\"]\n",
    "\n",
    "for fruta in fruits:\n",
    "    \n",
    "    if fruta == 'banana':\n",
    "        break\n",
    "        \n",
    "    print(fruta)"
   ]
  },
  {
   "cell_type": "code",
   "execution_count": null,
   "metadata": {},
   "outputs": [],
   "source": [
    "fruits = [\"maça\", \"banana\", \"morango\"]\n",
    "for x in fruits:\n",
    "    if x == \"banana\":\n",
    "        continue\n",
    "    print(x)"
   ]
  },
  {
   "cell_type": "code",
   "execution_count": null,
   "metadata": {},
   "outputs": [],
   "source": [
    "range(6)"
   ]
  },
  {
   "cell_type": "code",
   "execution_count": null,
   "metadata": {},
   "outputs": [],
   "source": [
    "for numero in range(6):\n",
    "    print(numero)"
   ]
  },
  {
   "cell_type": "code",
   "execution_count": null,
   "metadata": {},
   "outputs": [],
   "source": [
    "range(2, 6)"
   ]
  },
  {
   "cell_type": "code",
   "execution_count": null,
   "metadata": {},
   "outputs": [],
   "source": [
    "for x in range(2, 6):\n",
    "    print(x)"
   ]
  },
  {
   "cell_type": "code",
   "execution_count": null,
   "metadata": {},
   "outputs": [],
   "source": [
    "for x in range(2, 30, 3):\n",
    "    print(x)"
   ]
  },
  {
   "cell_type": "code",
   "execution_count": null,
   "metadata": {},
   "outputs": [],
   "source": [
    "adj = [\"vermelho\", \"amarelo\", \"azul\"]\n",
    "fruits = [\"maça\", \"banana\", \"morango\"]"
   ]
  },
  {
   "cell_type": "code",
   "execution_count": null,
   "metadata": {},
   "outputs": [],
   "source": [
    "for ajetivo in adj:\n",
    "    for fruta in fruits:\n",
    "        print(ajetivo, fruta)"
   ]
  },
  {
   "cell_type": "code",
   "execution_count": null,
   "metadata": {},
   "outputs": [],
   "source": [
    "df.columns"
   ]
  },
  {
   "cell_type": "code",
   "execution_count": null,
   "metadata": {},
   "outputs": [],
   "source": [
    "df.head()"
   ]
  },
  {
   "cell_type": "code",
   "execution_count": null,
   "metadata": {},
   "outputs": [],
   "source": [
    "df.groupby(pd.Grouper(key = 'order_purchase_timestamp', freq='M')).agg({\n",
    "    'payment_value' : ['min', 'sum', 'mean'],\n",
    "    'freight_value': ['sum', 'max'],\n",
    "    'payment_sequential' : ['mean', 'max'],\n",
    "    'customer_id': 'nunique'\n",
    "}).reset_index()"
   ]
  },
  {
   "cell_type": "code",
   "execution_count": null,
   "metadata": {
    "id": "FaLcflKdds_3"
   },
   "outputs": [],
   "source": [
    "agrupamento = df.groupby(pd.Grouper(key = 'order_purchase_timestamp', freq='M')).agg({\n",
    "    'payment_value' : ['min', 'sum', 'mean'],\n",
    "    'freight_value': ['sum', 'max'],\n",
    "    'payment_sequential' : ['mean', 'max'],\n",
    "    'customer_id': 'nunique'\n",
    "}).reset_index()"
   ]
  },
  {
   "cell_type": "code",
   "execution_count": null,
   "metadata": {},
   "outputs": [],
   "source": [
    "agrupamento"
   ]
  },
  {
   "cell_type": "code",
   "execution_count": null,
   "metadata": {},
   "outputs": [],
   "source": [
    "agrupamento.columns"
   ]
  },
  {
   "cell_type": "code",
   "execution_count": null,
   "metadata": {},
   "outputs": [],
   "source": [
    "for coluna in agrupamento.columns:\n",
    "    print(coluna)"
   ]
  },
  {
   "cell_type": "code",
   "execution_count": null,
   "metadata": {},
   "outputs": [],
   "source": [
    "for coluna in agrupamento.columns:\n",
    "    print('_'.join(coluna))\n",
    "    #print('---')"
   ]
  },
  {
   "cell_type": "code",
   "execution_count": null,
   "metadata": {},
   "outputs": [],
   "source": [
    "[print('_'.join(coluna)) for coluna in agrupamento.columns]"
   ]
  },
  {
   "cell_type": "code",
   "execution_count": null,
   "metadata": {},
   "outputs": [],
   "source": [
    "['_'.join(coluna) for coluna in agrupamento.columns]"
   ]
  },
  {
   "cell_type": "code",
   "execution_count": null,
   "metadata": {},
   "outputs": [],
   "source": [
    "agrupamento.columns = ['_'.join(col) for col in agrupamento.columns]"
   ]
  },
  {
   "cell_type": "code",
   "execution_count": null,
   "metadata": {},
   "outputs": [],
   "source": [
    "agrupamento"
   ]
  },
  {
   "cell_type": "code",
   "execution_count": null,
   "metadata": {},
   "outputs": [],
   "source": [
    "def agrupar_valores(data, chave, frequencia):\n",
    "\n",
    "    data[chave] = pd.to_datetime(data[chave])\n",
    "\n",
    "    agrupamento = data.groupby(pd.Grouper(key = chave, freq=frequencia)).agg({\n",
    "    'payment_value' : ['min', 'sum', 'mean'],\n",
    "    'freight_value': ['sum', 'max'],\n",
    "    'payment_sequential' : ['mean', 'max'],\n",
    "    'customer_id': 'nunique'\n",
    "    })\n",
    "    \n",
    "    agrupamento.columns = ['_'.join(col) for col in agrupamento.columns]\n",
    "\n",
    "    return agrupamento.reset_index()\n",
    "\n",
    "    "
   ]
  },
  {
   "cell_type": "code",
   "execution_count": null,
   "metadata": {},
   "outputs": [],
   "source": [
    "agrupar_valores(df, 'order_purchase_timestamp', 'M')"
   ]
  },
  {
   "cell_type": "code",
   "execution_count": null,
   "metadata": {},
   "outputs": [],
   "source": [
    "vendas_dia = agrupar_valores(df, 'order_purchase_timestamp', 'D')"
   ]
  },
  {
   "cell_type": "code",
   "execution_count": null,
   "metadata": {},
   "outputs": [],
   "source": [
    "vendas_dia"
   ]
  },
  {
   "cell_type": "code",
   "execution_count": null,
   "metadata": {
    "id": "_E0ywHG59xwP"
   },
   "outputs": [],
   "source": [
    "vendas_mes = agrupar_valores(df, 'order_purchase_timestamp', 'M')"
   ]
  },
  {
   "cell_type": "code",
   "execution_count": null,
   "metadata": {
    "colab": {
     "base_uri": "https://localhost:8080/",
     "height": 1000
    },
    "id": "OF2GFWSF92Hv",
    "outputId": "77bd4f6c-0ad4-49bf-fe32-7a1efb2b9af3"
   },
   "outputs": [],
   "source": [
    "vendas_mes\n"
   ]
  },
  {
   "cell_type": "code",
   "execution_count": null,
   "metadata": {
    "id": "g8EAgXHo94hX"
   },
   "outputs": [],
   "source": [
    "vendas_bim = agrupar_valores(df, 'order_purchase_timestamp', '2M')"
   ]
  },
  {
   "cell_type": "code",
   "execution_count": null,
   "metadata": {
    "colab": {
     "base_uri": "https://localhost:8080/",
     "height": 824
    },
    "id": "lmfR_4G2-Xww",
    "outputId": "f39376f0-71ed-4046-b7e5-1a1ccb9ba0d7"
   },
   "outputs": [],
   "source": [
    "vendas_bim"
   ]
  },
  {
   "attachments": {},
   "cell_type": "markdown",
   "metadata": {
    "id": "ib0rVybT-o68"
   },
   "source": [
    "# **Visualização de Dados com o Seaborn**"
   ]
  },
  {
   "cell_type": "code",
   "execution_count": null,
   "metadata": {
    "id": "tmAFbpy7-Y0N"
   },
   "outputs": [],
   "source": [
    "import matplotlib.pyplot as plt\n",
    "import seaborn as sns"
   ]
  },
  {
   "attachments": {},
   "cell_type": "markdown",
   "metadata": {
    "id": "ms84OkGF-ypx"
   },
   "source": [
    "Vamos usar aqui os nossos dataframes que construímos durante o curso e algumas outras análises também!"
   ]
  },
  {
   "cell_type": "code",
   "execution_count": null,
   "metadata": {
    "colab": {
     "base_uri": "https://localhost:8080/",
     "height": 204
    },
    "id": "1O_pkiVw-vtk",
    "outputId": "c649af68-9fef-4639-c744-9ed40676ce70"
   },
   "outputs": [],
   "source": [
    "vendas_dia.head()"
   ]
  },
  {
   "cell_type": "code",
   "execution_count": null,
   "metadata": {},
   "outputs": [],
   "source": [
    "sns.lineplot(x = 'order_purchase_timestamp', y = 'payment_value_sum', data = vendas_dia)"
   ]
  },
  {
   "attachments": {},
   "cell_type": "markdown",
   "metadata": {
    "id": "S7EPpO_G_Nmt"
   },
   "source": [
    "Ficou meio pequeno né?"
   ]
  },
  {
   "cell_type": "code",
   "execution_count": null,
   "metadata": {},
   "outputs": [],
   "source": [
    "fig, ax = plt.subplots(figsize=(10, 5))\n",
    "sns.lineplot(x = 'order_purchase_timestamp', y = 'payment_value_sum', data = vendas_dia);"
   ]
  },
  {
   "cell_type": "code",
   "execution_count": null,
   "metadata": {},
   "outputs": [],
   "source": [
    "fig, ax = plt.subplots(figsize=(10, 5))\n",
    "fig = sns.lineplot(x = 'order_purchase_timestamp', y = 'payment_value_sum', data = vendas_dia);"
   ]
  },
  {
   "attachments": {},
   "cell_type": "markdown",
   "metadata": {
    "id": "Vg2ivBIA_XIm"
   },
   "source": [
    "Vamos fazer agora com o Mensal"
   ]
  },
  {
   "cell_type": "code",
   "execution_count": null,
   "metadata": {},
   "outputs": [],
   "source": [
    "fig, ax = plt.subplots(figsize=(10, 5))\n",
    "fig = sns.lineplot(x = 'order_purchase_timestamp', y = 'payment_value_sum', data = vendas_mes);"
   ]
  },
  {
   "cell_type": "code",
   "execution_count": null,
   "metadata": {},
   "outputs": [],
   "source": [
    "fig, ax = plt.subplots(figsize=(10, 5))\n",
    "fig = sns.lineplot(x = 'order_purchase_timestamp', y = 'payment_value_sum', data = vendas_mes, color = '#0fd43d')\n",
    "media_mes = vendas_mes['payment_value_sum'].mean()\n",
    "ax.axhline(media_mes, color = '#c229ae')\n",
    "plt.title('Vendas Mensais');\n",
    "plt.savefig('../figuras/grafico.png')"
   ]
  },
  {
   "cell_type": "code",
   "execution_count": null,
   "metadata": {},
   "outputs": [],
   "source": [
    "fig, ax = plt.subplots(figsize=(10, 5))\n",
    "fig = sns.lineplot(x = 'order_purchase_timestamp', y = 'payment_value_sum', data = vendas_mes, color = '#29c256')\n",
    "media_mes = vendas_mes['payment_value_sum'].mean()\n",
    "ax.axhline(media_mes, color = '#c229ae')\n",
    "plt.title('Vendas Mensais');\n",
    "plt.savefig('VendasMensais.png')"
   ]
  },
  {
   "attachments": {},
   "cell_type": "markdown",
   "metadata": {
    "id": "kk8DQaldAvqc"
   },
   "source": [
    "**Exercício**\n",
    "\n",
    "Criar uma função que crie um gráfico com variação do título."
   ]
  },
  {
   "attachments": {},
   "cell_type": "markdown",
   "metadata": {
    "id": "qyyL26-sA5t_"
   },
   "source": [
    "**Visualização Estatatísticas**\n",
    "\n",
    "Uma das melhores coisas a se fazer no Python, são visualização estatísticas, no Excel costuma ser bem complicado de operacionalizar. \n",
    "\n",
    "Aqui fazemos em poucas linhas de código."
   ]
  },
  {
   "attachments": {},
   "cell_type": "markdown",
   "metadata": {
    "id": "FIQUaAEFBIWk"
   },
   "source": [
    "Histograma"
   ]
  },
  {
   "cell_type": "code",
   "execution_count": null,
   "metadata": {},
   "outputs": [],
   "source": [
    "df.head()"
   ]
  },
  {
   "cell_type": "code",
   "execution_count": null,
   "metadata": {},
   "outputs": [],
   "source": [
    "# Criando um novo dataframe para as nossas visualizações\n",
    "\n",
    "df.drop_duplicates(\n",
    "    subset = ['order_id', 'product_id'],\n",
    "    keep = 'first'\n",
    ")"
   ]
  },
  {
   "cell_type": "code",
   "execution_count": null,
   "metadata": {},
   "outputs": [],
   "source": [
    "df2 = df.drop_duplicates(\n",
    "    subset = ['order_id', 'product_id'],\n",
    "    keep = 'first'\n",
    ")"
   ]
  },
  {
   "cell_type": "code",
   "execution_count": null,
   "metadata": {},
   "outputs": [],
   "source": [
    "df2"
   ]
  },
  {
   "cell_type": "code",
   "execution_count": null,
   "metadata": {},
   "outputs": [],
   "source": [
    "sns.histplot(data = df2, x = 'price')"
   ]
  },
  {
   "attachments": {},
   "cell_type": "markdown",
   "metadata": {
    "id": "XLbwOXlLBk0F"
   },
   "source": [
    "Boxplot"
   ]
  },
  {
   "cell_type": "code",
   "execution_count": null,
   "metadata": {
    "colab": {
     "base_uri": "https://localhost:8080/",
     "height": 269
    },
    "id": "fkuIxX7lBZVV",
    "outputId": "90748389-616a-4dce-d5ea-7b64d0521163"
   },
   "outputs": [],
   "source": [
    "sns.boxplot(data = df2, y = 'price')"
   ]
  },
  {
   "cell_type": "code",
   "execution_count": null,
   "metadata": {},
   "outputs": [],
   "source": [
    "df2['price_log'] = np.log(df2['price'])"
   ]
  },
  {
   "cell_type": "code",
   "execution_count": null,
   "metadata": {},
   "outputs": [],
   "source": [
    "sns.histplot(data = df2, x = 'price_log', kde=True)"
   ]
  },
  {
   "cell_type": "code",
   "execution_count": null,
   "metadata": {},
   "outputs": [],
   "source": [
    "sns.histplot(data = df2, x = 'price_log', hue='payment_type')"
   ]
  },
  {
   "cell_type": "code",
   "execution_count": null,
   "metadata": {},
   "outputs": [],
   "source": [
    "df2[df2['payment_type'] == 'voucher']['price_log'].min()"
   ]
  },
  {
   "cell_type": "code",
   "execution_count": null,
   "metadata": {},
   "outputs": [],
   "source": [
    "g = sns.histplot(data = df2[df2['payment_type'] == 'voucher'], x = 'price_log', kde=True)\n",
    "g.axvline(df2[df2['payment_type'] == 'voucher']['price_log'].min(), color = '#c229ae')\n",
    "g.axvline(3, color = '#c229ae')"
   ]
  },
  {
   "cell_type": "code",
   "execution_count": null,
   "metadata": {},
   "outputs": [],
   "source": [
    "sns.boxplot(data = df2, x='payment_type', y='price_log')"
   ]
  },
  {
   "cell_type": "code",
   "execution_count": null,
   "metadata": {},
   "outputs": [],
   "source": [
    "total = len(df2)\n",
    "\n",
    "plt.figure(figsize=(14,6))\n",
    "\n",
    "plt.suptitle('Distribuição por tipo de Pagamento', fontsize = 22)\n",
    "\n",
    "plt.subplot(121)\n",
    "g = sns.countplot(x = 'payment_type', data = df2[df2['payment_type'] != 'not_defined'])\n",
    "g.set_title(\"Contagem de Tipo de Pagamento\", fontsize=20)\n",
    "g.set_xlabel(\"Tipo de Pagamento\", fontsize=17)\n",
    "g.set_ylabel(\"Contagem\", fontsize=17)\n",
    "\n",
    "\n",
    "plt.subplot(122)\n",
    "g = sns.boxplot(x='payment_type', y='price_log', data=df2[df2['payment_type'] != 'not_defined'])\n",
    "g.set_title(\"Payment Type by Price Distributions\", fontsize=20)\n",
    "g.set_xlabel(\"Payment Type Name\", fontsize=17)\n",
    "g.set_ylabel(\"Price(Log)\", fontsize=17)\n",
    "\n",
    "plt.subplots_adjust(hspace = 0.5, top = 0.8)\n",
    "\n",
    "plt.show()"
   ]
  },
  {
   "cell_type": "code",
   "execution_count": null,
   "metadata": {},
   "outputs": [],
   "source": [
    "total = len(df2)\n",
    "\n",
    "plt.figure(figsize=(14,6))\n",
    "\n",
    "plt.suptitle('Payment Type Distributions', fontsize=22)\n",
    "\n",
    "plt.subplot(121)\n",
    "g = sns.countplot(x='payment_type', data=df2[df2['payment_type'] != 'not_defined'])\n",
    "g.set_title(\"Payment Type Count Distribution\", fontsize=20)\n",
    "g.set_xlabel(\"Payment Type Name\", fontsize=17)\n",
    "g.set_ylabel(\"Count\", fontsize=17)\n",
    "\n",
    "\n",
    "plt.subplot(122)\n",
    "g = sns.boxplot(x='payment_type', y='price_log', data=df2[df2['payment_type'] != 'not_defined'])\n",
    "g.set_title(\"Payment Type by Price Distributions\", fontsize=20)\n",
    "g.set_xlabel(\"Payment Type Name\", fontsize=17)\n",
    "g.set_ylabel(\"Price(Log)\", fontsize=17)\n",
    "\n",
    "plt.subplots_adjust(hspace = 0.5, top = 0.8)\n",
    "\n",
    "plt.show()\n"
   ]
  },
  {
   "cell_type": "code",
   "execution_count": null,
   "metadata": {},
   "outputs": [],
   "source": [
    "plt.figure(figsize=(16,12))\n",
    "\n",
    "plt.suptitle('Distribuição dos Clientes por Estado', fontsize=22)\n",
    "\n",
    "plt.subplot(212)\n",
    "g = sns.countplot(x='customer_state', data=df2, orient='h')\n",
    "g.set_title(\"Distribuição dos Clientes por Estado\", fontsize=20)\n",
    "g.set_xlabel(\"Estado\", fontsize=17)\n",
    "g.set_ylabel(\"Count\", fontsize=17)\n",
    "g.set_xticklabels(g.get_xticklabels(),rotation=45)\n",
    "\n",
    "\n",
    "plt.subplot(221)\n",
    "g2 = sns.boxplot(x='customer_state', y='price_log', \n",
    "                 data=df2[df2['price'] != -1])\n",
    "g2.set_title(\"Estado do Cliente por Preço\", fontsize=20)\n",
    "g2.set_xlabel(\"Estado\", fontsize=17)\n",
    "g2.set_ylabel(\"Price(Log)\", fontsize=17)\n",
    "g2.set_xticklabels(g2.get_xticklabels(),rotation=45)\n",
    "\n",
    "plt.subplot(222)\n",
    "g3 = sns.boxplot(x='customer_state', y='freight_value', \n",
    "                 data=df2[df2['price'] != -1])\n",
    "g3.set_title(\"Estado do Cliente por Valor do Frete\", fontsize=20)\n",
    "g3.set_xlabel(\"Estado\", fontsize=17)\n",
    "g3.set_ylabel(\"Frete\", fontsize=17)\n",
    "g3.set_xticklabels(g3.get_xticklabels(),rotation=45)\n",
    "\n",
    "plt.subplots_adjust(hspace = 0.5, top = 0.9)\n",
    "\n",
    "plt.show()"
   ]
  },
  {
   "cell_type": "code",
   "execution_count": null,
   "metadata": {},
   "outputs": [],
   "source": [
    "g3 = sns.boxplot(x='customer_state', y='freight_value', \n",
    "                 data=df2[df2['price'] != -1])\n",
    "g3.set_title(\"Estado do Cliente por Valor do Frete\", fontsize=20)\n",
    "g3.set_xlabel(\"Estado\", fontsize=17)\n",
    "g3.set_ylabel(\"Frete\", fontsize=17)\n",
    "g3.set_xticklabels(g3.get_xticklabels(),rotation=45)"
   ]
  },
  {
   "attachments": {},
   "cell_type": "markdown",
   "metadata": {},
   "source": [
    "Algumas coisinhas mais complexas"
   ]
  },
  {
   "cell_type": "code",
   "execution_count": null,
   "metadata": {},
   "outputs": [],
   "source": [
    "df2.head(3)"
   ]
  },
  {
   "cell_type": "code",
   "execution_count": null,
   "metadata": {},
   "outputs": [],
   "source": [
    "def novos_clientes_por_mes(data):\n",
    "\n",
    "\n",
    "    data['periodo_mensal_da_ordem_de_compra'] = data['order_purchase_timestamp'].dt.to_period('M')\n",
    "\n",
    "    primeira_compra = data.groupby('customer_unique_id')['periodo_mensal_da_ordem_de_compra'].first()\n",
    "\n",
    "    novos_clientes = primeira_compra.value_counts()\n",
    "\n",
    "    return novos_clientes.sort_values().reset_index()"
   ]
  },
  {
   "cell_type": "code",
   "execution_count": null,
   "metadata": {},
   "outputs": [],
   "source": [
    "novos_clientes_por_mes(df2)"
   ]
  },
  {
   "cell_type": "code",
   "execution_count": null,
   "metadata": {},
   "outputs": [],
   "source": [
    "def new_customer_per_month(data):\n",
    "\n",
    "    data['order_purchase_month_year'] = data['order_purchase_timestamp'].dt.to_period('M')\n",
    "\n",
    "    first_purchase = data.groupby('customer_unique_id')['order_purchase_month_year'].first()\n",
    "\n",
    "    new_customer = first_purchase.value_counts()\n",
    "\n",
    "    return new_customer.sort_index().reset_index()\n",
    "\n",
    "new_customers = new_customer_per_month(df2)\n",
    "\n",
    "new_customers.columns = ['Month', 'New Customers']\n"
   ]
  },
  {
   "cell_type": "code",
   "execution_count": null,
   "metadata": {},
   "outputs": [],
   "source": [
    "new_customers"
   ]
  },
  {
   "cell_type": "code",
   "execution_count": null,
   "metadata": {},
   "outputs": [],
   "source": [
    "# Função para calcular a quantidade de novos clientes por mês\n",
    "def new_customers_per_month(data):\n",
    "    # Criando uma nova coluna 'order_purchase_month_year' que é o mês e o ano em que o pedido foi feito\n",
    "    data['order_purchase_month_year'] = data['order_purchase_timestamp'].dt.to_period('M')\n",
    "\n",
    "    # Agrupando por 'customer_unique_id' e 'order_purchase_month_year' e pegando a primeira ocorrência de cada grupo\n",
    "    first_purchase = data.groupby('customer_unique_id')['order_purchase_month_year'].first()\n",
    "\n",
    "    # Contando a quantidade de novos clientes por mês\n",
    "    new_customers = first_purchase.value_counts().sort_index()\n",
    "\n",
    "    return new_customers\n",
    "\n",
    "\n",
    "new_customers = new_customers_per_month(df2)\n",
    "\n",
    "new_customers_df = new_customers.reset_index()\n",
    "new_customers_df.columns = ['Month', 'New Customers']\n",
    "\n",
    "new_customers_df"
   ]
  },
  {
   "cell_type": "code",
   "execution_count": null,
   "metadata": {},
   "outputs": [],
   "source": [
    "sns.lineplot(data = new_customers, x = 'Month', y = 'New Customers')"
   ]
  },
  {
   "cell_type": "code",
   "execution_count": null,
   "metadata": {},
   "outputs": [],
   "source": [
    "new_customers.info()"
   ]
  },
  {
   "cell_type": "code",
   "execution_count": null,
   "metadata": {},
   "outputs": [],
   "source": [
    "new_customers['Month'] = pd.to_datetime(new_customers['Month'].astype(str))"
   ]
  },
  {
   "cell_type": "code",
   "execution_count": null,
   "metadata": {},
   "outputs": [],
   "source": [
    "new_customers.info()"
   ]
  },
  {
   "cell_type": "code",
   "execution_count": null,
   "metadata": {},
   "outputs": [],
   "source": [
    "plt.figure(figsize=(12, 6))\n",
    "sns.lineplot(data = new_customers, x = 'Month', y = 'New Customers')\n",
    "plt.title('Novos Clientes por Mês');"
   ]
  },
  {
   "cell_type": "code",
   "execution_count": null,
   "metadata": {},
   "outputs": [],
   "source": [
    "def new_product_per_month(data):\n",
    "\n",
    "    data['order_purchase_month_year'] = data['order_purchase_timestamp'].dt.to_period('M')\n",
    "\n",
    "    apareceu_primeiravez = data.groupby('product_id')['order_purchase_month_year'].first()\n",
    "\n",
    "    new_product = apareceu_primeiravez.value_counts().sort_index().reset_index()\n",
    "\n",
    "    new_product.columns = ['Month', 'New Product']\n",
    "    \n",
    "    new_product['Month'] = pd.to_datetime(new_product['Month'].astype(str))\n",
    "\n",
    "    return new_product\n",
    "\n",
    "new_products = new_product_per_month(df2)\n",
    "\n"
   ]
  },
  {
   "cell_type": "code",
   "execution_count": null,
   "metadata": {},
   "outputs": [],
   "source": [
    "def gerar_grafico_de_linha(dados, eixoX, eixoY, titulo ):\n",
    "\n",
    "    plt.figure(figsize=(12, 6))\n",
    "    sns.lineplot(data = dados, x = eixoX, y = eixoY)\n",
    "    plt.title(titulo);"
   ]
  },
  {
   "cell_type": "code",
   "execution_count": null,
   "metadata": {},
   "outputs": [],
   "source": [
    "gerar_grafico_de_linha(new_products, 'Month', 'New Product', 'Novos Produtos por Mês' )"
   ]
  },
  {
   "cell_type": "code",
   "execution_count": null,
   "metadata": {},
   "outputs": [],
   "source": [
    "new_products"
   ]
  },
  {
   "cell_type": "code",
   "execution_count": null,
   "metadata": {},
   "outputs": [],
   "source": [
    "# Função para calcular a quantidade de novos produtos por mês\n",
    "def new_products_per_month(df):\n",
    "    \n",
    "    df['order_purchase_month_year'] = df['order_purchase_timestamp'].dt.to_period('M')\n",
    "    # Agrupando por 'product_id' e 'order_purchase_month_year' e pegando a primeira ocorrência de cada grupo\n",
    "    first_appearance = df.groupby('product_id')['order_purchase_month_year'].first()\n",
    "\n",
    "    # Contando a quantidade de novos produtos por mês\n",
    "    new_products = first_appearance.value_counts().sort_index()\n",
    "\n",
    "    return new_products\n",
    "\n",
    "# Chamando a função e armazenando o resultado na variável 'new_products'\n",
    "new_products = new_products_per_month(df)\n",
    "# Convertendo a série 'new_products' para um dataframe\n",
    "new_products_df = new_products.reset_index()\n",
    "new_products_df.columns = ['Month', 'New Products']\n",
    "\n"
   ]
  },
  {
   "cell_type": "code",
   "execution_count": null,
   "metadata": {},
   "outputs": [],
   "source": [
    "# Convertendo a coluna 'Month' para datetime\n",
    "new_products_df['Month'] = pd.to_datetime(new_products_df['Month'].astype(str))\n",
    "\n",
    "# Criando o gráfico\n",
    "plt.figure(figsize=(12, 6))\n",
    "sns.lineplot(data=new_products_df, x='Month', y='New Products')\n",
    "plt.title('New Products per Month')\n",
    "plt.show()"
   ]
  },
  {
   "cell_type": "code",
   "execution_count": null,
   "metadata": {},
   "outputs": [],
   "source": [
    "new_products_df"
   ]
  },
  {
   "attachments": {},
   "cell_type": "markdown",
   "metadata": {
    "id": "-lq4tKulCgr9"
   },
   "source": [
    "# **I/O**"
   ]
  },
  {
   "cell_type": "code",
   "execution_count": null,
   "metadata": {},
   "outputs": [],
   "source": [
    "vendas_dia"
   ]
  },
  {
   "cell_type": "code",
   "execution_count": null,
   "metadata": {},
   "outputs": [],
   "source": [
    "vendas_dia.to_excel('nova_pasta/Vendas_dia.xlsx')"
   ]
  },
  {
   "cell_type": "code",
   "execution_count": null,
   "metadata": {
    "id": "24gEn6koBxFC"
   },
   "outputs": [],
   "source": [
    "vendas_dia.to_csv('nova_pasta/.csv', sep = ';', decimal = ',')"
   ]
  },
  {
   "cell_type": "code",
   "execution_count": null,
   "metadata": {
    "colab": {
     "base_uri": "https://localhost:8080/"
    },
    "id": "DWNU0OKjRd09",
    "outputId": "659e9e5a-77d4-408e-d39b-2ddce7f2abdb"
   },
   "outputs": [],
   "source": [
    "!pip install xlsxwriter"
   ]
  },
  {
   "cell_type": "code",
   "execution_count": null,
   "metadata": {
    "id": "JqVgdhSHRXuO"
   },
   "outputs": [],
   "source": [
    "import xlsxwriter\n",
    "from datetime import datetime"
   ]
  },
  {
   "cell_type": "code",
   "execution_count": null,
   "metadata": {},
   "outputs": [],
   "source": [
    "dia = datetime.today().strftime('%Y-%m-%d')"
   ]
  },
  {
   "cell_type": "code",
   "execution_count": null,
   "metadata": {},
   "outputs": [],
   "source": [
    "dia"
   ]
  },
  {
   "cell_type": "code",
   "execution_count": null,
   "metadata": {},
   "outputs": [],
   "source": [
    "vendas_mes.head()"
   ]
  },
  {
   "cell_type": "code",
   "execution_count": null,
   "metadata": {},
   "outputs": [],
   "source": [
    "def cria_arquivos_excel(arquivo1, nome_aba_1, arquivo2, nome_aba_2):\n",
    "\n",
    "    dia = datetime.today().strftime('%Y-%m-%d')\n",
    "\n",
    "    nome_arquivo = '../data/compilado/excelCompilado-' + str(dia) + '.xlsx'\n",
    "\n",
    "    writer = pd.ExcelWriter(nome_arquivo, engine = 'xlsxwriter')\n",
    "\n",
    "    arquivo1.to_excel(writer, sheet_name = nome_aba_1)\n",
    "    arquivo2.to_excel(writer, sheet_name = nome_aba_2)\n",
    "\n",
    "    writer.close()\n"
   ]
  },
  {
   "cell_type": "code",
   "execution_count": null,
   "metadata": {},
   "outputs": [],
   "source": [
    "cria_arquivos_excel(vendas_dia, 'vendas_dia', vendas_mes, 'vendas_mes')"
   ]
  },
  {
   "cell_type": "code",
   "execution_count": null,
   "metadata": {},
   "outputs": [],
   "source": [
    "def create_xlsx(vendas_dia, vendas_mes):\n",
    "    \n",
    "    dia = datetime.today().strftime('%Y-%m-%d')\n",
    "     \n",
    "    nome_arquivo ='nova_pasta/compilado-' + str(dia) + '.xlsx'\n",
    "    \n",
    "    writer = pd.ExcelWriter(nome_arquivo, engine = 'xlsxwriter')\n",
    "    \n",
    "    vendas_dia.to_excel(writer, sheet_name = 'vendas_dia')\n",
    "    vendas_mes.to_excel(writer, sheet_name = 'vendas_mes')\n",
    "    \n",
    "    writer.close()\n",
    "    "
   ]
  },
  {
   "cell_type": "code",
   "execution_count": null,
   "metadata": {
    "id": "fhQIGe9TRjDU"
   },
   "outputs": [],
   "source": [
    "create_xlsx(vendas_dia, vendas_mes)"
   ]
  },
  {
   "attachments": {},
   "cell_type": "markdown",
   "metadata": {
    "id": "-E0d8WGsWGvu"
   },
   "source": [
    "Gráficos interativos com o plotly"
   ]
  },
  {
   "cell_type": "code",
   "execution_count": null,
   "metadata": {
    "id": "XcwEy7u9WGZn"
   },
   "outputs": [],
   "source": [
    "import plotly.express as px "
   ]
  },
  {
   "cell_type": "code",
   "execution_count": null,
   "metadata": {
    "colab": {
     "base_uri": "https://localhost:8080/"
    },
    "id": "sIB2jFF-WqKr",
    "outputId": "df010be4-fc1d-49a5-d32e-2c9d63f7af79"
   },
   "outputs": [],
   "source": [
    "vendas_mes.columns"
   ]
  },
  {
   "cell_type": "code",
   "execution_count": null,
   "metadata": {},
   "outputs": [],
   "source": [
    "sns.lineplot(data = new_customers, x = 'Month', y = 'New Customers')"
   ]
  },
  {
   "cell_type": "code",
   "execution_count": null,
   "metadata": {},
   "outputs": [],
   "source": [
    "fig = px.line(data_frame= new_customers, x = 'Month', y = 'New Customers')\n",
    "fig.show()\n",
    "fig.write_html('../figuras/grafico_novos_clientes.html')"
   ]
  },
  {
   "cell_type": "code",
   "execution_count": null,
   "metadata": {
    "colab": {
     "base_uri": "https://localhost:8080/",
     "height": 542
    },
    "id": "CiihvUxYW2SX",
    "outputId": "46faafbe-ae81-4215-c627-034b08db7336"
   },
   "outputs": [],
   "source": [
    "fig = px.histogram(vendas_dia, x='Sales_mean', color_discrete_sequence=['green']) \n",
    "  \n",
    "# showing the plot\n",
    "fig.show()\n",
    "fig.write_html(\"file.html\")"
   ]
  },
  {
   "cell_type": "code",
   "execution_count": null,
   "metadata": {
    "colab": {
     "base_uri": "https://localhost:8080/",
     "height": 542
    },
    "id": "J45CFHygXZey",
    "outputId": "32112b34-0298-403e-8b26-e434c1b61965"
   },
   "outputs": [],
   "source": [
    "fig = px.box(vendas_dia, y=\"Sales_mean\") \n",
    "  \n",
    "# showing the plot\n",
    "fig.show()"
   ]
  },
  {
   "cell_type": "code",
   "execution_count": null,
   "metadata": {},
   "outputs": [],
   "source": [
    "sns.histplot(data = df2, x = 'price_log', hue='payment_type')"
   ]
  },
  {
   "cell_type": "code",
   "execution_count": null,
   "metadata": {},
   "outputs": [],
   "source": [
    "def plot_histogram(df, x_column, hue_column, output_file, title):\n",
    "    \"\"\"\n",
    "    Cria um histograma usando Plotly e salva o gráfico em um arquivo HTML.\n",
    "\n",
    "    :param df: DataFrame contendo os dados\n",
    "    :param x_column: Nome da coluna a ser usada para o eixo X\n",
    "    :param hue_column: Nome da coluna a ser usada para colorir as barras\n",
    "    :param output_file: Nome do arquivo HTML para salvar o gráfico\n",
    "    \"\"\"\n",
    "\n",
    "    # Cria o gráfico\n",
    "    fig = px.histogram(df, x=x_column, color=hue_column)\n",
    "\n",
    "     # Adiciona título ao gráfico\n",
    "    fig.update_layout(\n",
    "        title={\n",
    "            'text': title,\n",
    "            'x': 0,  # Posição x do título (0 é esquerda, 1 é direita)\n",
    "            'xanchor': 'left'  # Alinha o texto à esquerda\n",
    "        }\n",
    "    )\n",
    "\n",
    "    fig.show()\n",
    "    \n",
    "    # Salva o gráfico em um arquivo HTML\n",
    "    fig.write_html(output_file)"
   ]
  },
  {
   "cell_type": "code",
   "execution_count": null,
   "metadata": {},
   "outputs": [],
   "source": [
    "plot_histogram(df2, 'price_log', 'payment_type', '../figuras/histogram.html', 'Meu Histograma')"
   ]
  },
  {
   "cell_type": "code",
   "execution_count": null,
   "metadata": {},
   "outputs": [],
   "source": [
    "df2.columns"
   ]
  },
  {
   "cell_type": "code",
   "execution_count": null,
   "metadata": {},
   "outputs": [],
   "source": [
    "df2[['order_id',  'customer_unique_id', 'order_purchase_timestamp', 'product_id', 'price', 'freight_value', 'customer_state', 'product_category_name']].to_excel('../data/arquivoreduzido.xlsx')"
   ]
  },
  {
   "cell_type": "code",
   "execution_count": null,
   "metadata": {},
   "outputs": [],
   "source": []
  }
 ],
 "metadata": {
  "colab": {
   "collapsed_sections": [],
   "name": "Python_para_Data_Analysis_completo.ipynb",
   "provenance": []
  },
  "kernelspec": {
   "display_name": "Python 3 (ipykernel)",
   "language": "python",
   "name": "python3"
  },
  "language_info": {
   "codemirror_mode": {
    "name": "ipython",
    "version": 3
   },
   "file_extension": ".py",
   "mimetype": "text/x-python",
   "name": "python",
   "nbconvert_exporter": "python",
   "pygments_lexer": "ipython3",
   "version": "3.8.8"
  },
  "vscode": {
   "interpreter": {
    "hash": "46ab28d606644fcf73a0df275ea82be85c64429f8455a5458591438b0fe3c398"
   }
  }
 },
 "nbformat": 4,
 "nbformat_minor": 1
}
